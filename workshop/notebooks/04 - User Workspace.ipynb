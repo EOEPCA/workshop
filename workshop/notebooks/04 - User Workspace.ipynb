{
 "cells": [
  {
   "cell_type": "markdown",
   "id": "9e26ddf0-8a86-4578-ba7f-37e80d8639f2",
   "metadata": {},
   "source": [
    "# User Workspace"
   ]
  },
  {
   "cell_type": "markdown",
   "id": "fb9ab036-31d7-4f21-a870-de01169d5837",
   "metadata": {},
   "source": [
    "This section completes the tutorial workflow by:\n",
    "* Registering the user's processing results in their workspace\n",
    "* Inspecting their product metadata via their Resource Catalogue\n",
    "* Visualising their results via the Data Access services"
   ]
  },
  {
   "cell_type": "code",
   "execution_count": null,
   "id": "9f95fd03-ed8b-434e-8a69-ce7279af0bc2",
   "metadata": {},
   "outputs": [],
   "source": [
    "import requests\n",
    "import datetime"
   ]
  },
  {
   "cell_type": "code",
   "execution_count": null,
   "id": "3021ca91-6c67-4b87-add9-9e723fe4b494",
   "metadata": {},
   "outputs": [],
   "source": [
    "domain = \"demo.eoepca.org\"\n",
    "#domain = \"develop.eoepca.org\"\n",
    "workspace_prefix = \"demo-user\""
   ]
  },
  {
   "cell_type": "code",
   "execution_count": null,
   "id": "a838a0e9-b5b5-432c-bc01-721cdedf0d3d",
   "metadata": {},
   "outputs": [],
   "source": [
    "USERNAME=\"eric\"\n",
    "PASSWORD=\"defaultPWD\""
   ]
  },
  {
   "cell_type": "code",
   "execution_count": null,
   "id": "706bf507-c8a4-435b-bfe5-c5371bf92470",
   "metadata": {},
   "outputs": [],
   "source": [
    "workspaces_endpoint = f\"https://workspace-api.{domain}/workspaces\""
   ]
  },
  {
   "cell_type": "code",
   "execution_count": null,
   "id": "66a2ab00-1ac2-43b0-869b-f2d77423e2d0",
   "metadata": {},
   "outputs": [],
   "source": [
    "import utils.DemoClient as client\n",
    "import jwt\n",
    "\n",
    "demo = client.DemoClient(f\"https://auth.{domain}\")\n",
    "demo.register_client()\n",
    "demo.save_state()"
   ]
  },
  {
   "cell_type": "code",
   "execution_count": null,
   "id": "c9698edc-e891-4c9f-8dd7-3450b72ff45f",
   "metadata": {},
   "outputs": [],
   "source": [
    "user_id_token = demo.get_id_token(USERNAME, PASSWORD)\n",
    "headers = {\n",
    "    'Authorization': 'Bearer ' + user_id_token\n",
    "}\n",
    "\n",
    "jwt_header = jwt.get_unverified_header(user_id_token)\n",
    "jwt_payload = jwt.decode(user_id_token, options={\"verify_signature\": False})\n",
    "user_uid = jwt_payload[\"sub\"]"
   ]
  },
  {
   "cell_type": "code",
   "execution_count": null,
   "id": "9fea402e-5c2c-4cae-8ae7-0bf730c4b19d",
   "metadata": {},
   "outputs": [],
   "source": [
    "actual_workspace_name = f'{workspace_prefix}-{USERNAME}'\n",
    "response = requests.get(f\"{workspaces_endpoint}/{actual_workspace_name}\", headers=headers)\n",
    "response.raise_for_status()\n",
    "\n",
    "workspace_data = response.json()\n",
    "bucket_name = workspace_data[\"storage\"][\"credentials\"][\"bucketname\"]\n",
    "s3_access = workspace_data[\"storage\"][\"credentials\"][\"access\"]\n",
    "s3_secret = workspace_data[\"storage\"][\"credentials\"][\"secret\"]\n",
    "workspace_data[\"storage\"][\"credentials\"]['secret'] = \"hidden_for_demo\"\n",
    "workspace_data[\"container_registry\"][\"password\"] = \"hidden_for_demo\"\n",
    "workspace_data"
   ]
  },
  {
   "cell_type": "markdown",
   "id": "af113d08-f846-4468-9047-ea091b6cc955",
   "metadata": {},
   "source": [
    "We will now upload an application package to the workspace:"
   ]
  },
  {
   "cell_type": "code",
   "execution_count": null,
   "id": "41943f75-a14b-45bf-b137-318f49ce5d08",
   "metadata": {
    "tags": []
   },
   "outputs": [],
   "source": [
    "import boto3\n",
    "#S3_ENDPOINT = \"https://cf2.cloudferro.com:8080\"\n",
    "S3_ENDPOINT = \"https://minio.demo.eoepca.org\"\n",
    "session = boto3.session.Session()\n",
    "s3resource = session.resource('s3', aws_access_key_id=s3_access, aws_secret_access_key=s3_secret, endpoint_url=S3_ENDPOINT)\n",
    "object = s3resource.Object(bucket_name, 'application-package/s-expression/s-expression-0_0_2.cwl')\n",
    "result = object.put(Body=open('../data/s-expression-cwl.cwl', 'rb'))\n",
    "res = result.get('ResponseMetadata')\n",
    "if res.get('HTTPStatusCode') == 200:\n",
    "    print('Application package uploaded successfully')\n",
    "else:\n",
    "    print('Application package not uploaded')"
   ]
  },
  {
   "cell_type": "markdown",
   "id": "1c80f1c4-b023-431e-a202-4a7e805ad35e",
   "metadata": {},
   "source": [
    "Now we register the application package:"
   ]
  },
  {
   "cell_type": "code",
   "execution_count": null,
   "id": "5f5ae258-9550-4a38-806a-693e83513aca",
   "metadata": {},
   "outputs": [],
   "source": [
    "resource_url= f'{bucket_name}/application-package/s-expression/s-expression-0_0_2.cwl'\n",
    "response = requests.post(\n",
    "    f\"{workspaces_endpoint}/{actual_workspace_name}/register\",\n",
    "    headers=headers,\n",
    "    json={\n",
    "        \"type\": \"application\",\n",
    "        \"url\": resource_url,\n",
    "    }\n",
    ")\n",
    "response.raise_for_status()\n",
    "response"
   ]
  },
  {
   "cell_type": "markdown",
   "id": "ca9342a1-5999-4c03-a0e7-6896115d4ceb",
   "metadata": {},
   "source": [
    "### Workspace catalogue"
   ]
  },
  {
   "cell_type": "code",
   "execution_count": null,
   "id": "7692fd42-095e-4456-bfc9-14de722780d9",
   "metadata": {},
   "outputs": [],
   "source": [
    "from owslib.csw import CatalogueServiceWeb"
   ]
  },
  {
   "cell_type": "code",
   "execution_count": null,
   "id": "f79fa5f4-9fe3-4159-9e23-adf4ee69a4e1",
   "metadata": {},
   "outputs": [],
   "source": [
    "workspace_catalogue_endpoint = f'https://resource-catalogue.{actual_workspace_name}.{domain}'\n",
    "workspace_catalogue_csw = f'{workspace_catalogue_endpoint}/csw'"
   ]
  },
  {
   "cell_type": "markdown",
   "id": "6df9ef6f-5069-4a7c-9bbb-0c8449fcb32f",
   "metadata": {},
   "source": [
    "Now we check the registration result:"
   ]
  },
  {
   "cell_type": "code",
   "execution_count": null,
   "id": "22e7a3de-72cf-41b0-b742-609d52a966f4",
   "metadata": {},
   "outputs": [],
   "source": [
    "import time\n",
    "time.sleep(3)\n",
    "response = requests.get(f\"{workspace_catalogue_endpoint}/collections/metadata:main/items?type=application\", headers=dict(f=\"json\", **headers))\n",
    "response.raise_for_status()\n",
    "response.json()"
   ]
  },
  {
   "cell_type": "code",
   "execution_count": null,
   "id": "6a8b9b90-dddc-417a-b31d-916dd9ab582a",
   "metadata": {
    "tags": []
   },
   "outputs": [],
   "source": [
    "headers = {\n",
    "    'Authorization': 'Bearer ' + user_id_token\n",
    "}"
   ]
  },
  {
   "cell_type": "markdown",
   "id": "e18d507d-3ff2-45bc-99c7-0a3a3d835483",
   "metadata": {},
   "source": [
    "List all records identifier, type and title in workspace catalogue"
   ]
  },
  {
   "cell_type": "code",
   "execution_count": null,
   "id": "7bcf1357-8540-43f4-b913-9a81b15a0fca",
   "metadata": {},
   "outputs": [],
   "source": [
    "csw = CatalogueServiceWeb(workspace_catalogue_csw, timeout=30,headers=headers)\n",
    "csw.getrecords2(maxrecords=10)\n",
    "csw.results"
   ]
  },
  {
   "cell_type": "code",
   "execution_count": null,
   "id": "d10a84f9-2148-4b5e-aa01-14eeb719702a",
   "metadata": {},
   "outputs": [],
   "source": [
    "for rec in csw.records:\n",
    "    print(f'identifier: {csw.records[rec].identifier}\\ntype: {csw.records[rec].type}\\ntitle: {csw.records[rec].title}\\n')"
   ]
  },
  {
   "cell_type": "code",
   "execution_count": null,
   "id": "26aea793-398b-4a96-92ee-2a5f2a0ed3ef",
   "metadata": {
    "tags": []
   },
   "outputs": [],
   "source": [
    "csw.records['s-expression'].references"
   ]
  }
 ],
 "metadata": {
  "kernelspec": {
   "display_name": "Python 3",
   "language": "python",
   "name": "python3"
  },
  "language_info": {
   "codemirror_mode": {
    "name": "ipython",
    "version": 3
   },
   "file_extension": ".py",
   "mimetype": "text/x-python",
   "name": "python",
   "nbconvert_exporter": "python",
   "pygments_lexer": "ipython3",
   "version": "3.9.2"
  }
 },
 "nbformat": 4,
 "nbformat_minor": 5
}
