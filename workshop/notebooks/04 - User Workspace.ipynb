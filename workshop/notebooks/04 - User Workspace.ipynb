{
 "cells": [
  {
   "cell_type": "markdown",
   "id": "9e26ddf0-8a86-4578-ba7f-37e80d8639f2",
   "metadata": {},
   "source": [
    "# User Workspace"
   ]
  },
  {
   "cell_type": "markdown",
   "id": "fb9ab036-31d7-4f21-a870-de01169d5837",
   "metadata": {},
   "source": [
    "This section completes the tutorial workflow by:\n",
    "* Registering the user's processing results in their workspace\n",
    "* Inspecting their product metadata via their Resource Catalogue\n",
    "* Visualising their results via the Data Access services"
   ]
  },
  {
   "cell_type": "markdown",
   "id": "b6fd0fca-ca08-46cc-9176-44c51c2b1174",
   "metadata": {},
   "source": [
    "## Access the workspace"
   ]
  },
  {
   "cell_type": "code",
   "execution_count": null,
   "id": "9f95fd03-ed8b-434e-8a69-ce7279af0bc2",
   "metadata": {},
   "outputs": [],
   "source": [
    "import requests\n",
    "import datetime"
   ]
  },
  {
   "cell_type": "code",
   "execution_count": null,
   "id": "3021ca91-6c67-4b87-add9-9e723fe4b494",
   "metadata": {},
   "outputs": [],
   "source": [
    "domain = \"demo.eoepca.org\"\n",
    "#domain = \"develop.eoepca.org\"\n",
    "workspace_prefix = \"demo-user\""
   ]
  },
  {
   "cell_type": "code",
   "execution_count": null,
   "id": "a838a0e9-b5b5-432c-bc01-721cdedf0d3d",
   "metadata": {},
   "outputs": [],
   "source": [
    "USERNAME=\"user99\""
   ]
  },
  {
   "cell_type": "code",
   "execution_count": null,
   "id": "706bf507-c8a4-435b-bfe5-c5371bf92470",
   "metadata": {
    "tags": []
   },
   "outputs": [],
   "source": [
    "workspaces_endpoint = f\"https://workspace-api.{domain}/workspaces\""
   ]
  },
  {
   "cell_type": "markdown",
   "id": "74fbf64e-1810-4b99-989b-a61f25d31121",
   "metadata": {},
   "source": [
    "Next step is to read the bucket credentials from the workspace data:"
   ]
  },
  {
   "cell_type": "code",
   "execution_count": null,
   "id": "9fea402e-5c2c-4cae-8ae7-0bf730c4b19d",
   "metadata": {},
   "outputs": [],
   "source": [
    "actual_workspace_name = f'{workspace_prefix}-{USERNAME}'\n",
    "response = requests.get(f\"{workspaces_endpoint}/{actual_workspace_name}\")\n",
    "response.raise_for_status()\n",
    "\n",
    "workspace_data = response.json()\n",
    "bucket_name = workspace_data[\"storage\"][\"credentials\"][\"bucketname\"]\n",
    "s3_access = workspace_data[\"storage\"][\"credentials\"][\"access\"]\n",
    "s3_secret = workspace_data[\"storage\"][\"credentials\"][\"secret\"]\n",
    "workspace_data[\"storage\"][\"credentials\"]['secret'] = \"hidden_for_demo\"\n",
    "workspace_data[\"container_registry\"][\"password\"] = \"hidden_for_demo\"\n",
    "workspace_data"
   ]
  },
  {
   "cell_type": "markdown",
   "id": "4080e6c8-53b3-475b-afd8-ec21cc2d7014",
   "metadata": {},
   "source": [
    "## Upload an application to the workspace"
   ]
  },
  {
   "cell_type": "markdown",
   "id": "af113d08-f846-4468-9047-ea091b6cc955",
   "metadata": {},
   "source": [
    "We will now upload an application package to the workspace:"
   ]
  },
  {
   "cell_type": "code",
   "execution_count": null,
   "id": "41943f75-a14b-45bf-b137-318f49ce5d08",
   "metadata": {
    "tags": []
   },
   "outputs": [],
   "source": [
    "import boto3\n",
    "#S3_ENDPOINT = \"https://cf2.cloudferro.com:8080\"\n",
    "S3_ENDPOINT = \"https://minio.demo.eoepca.org\"\n",
    "session = boto3.session.Session()\n",
    "s3resource = session.resource('s3', aws_access_key_id=s3_access, aws_secret_access_key=s3_secret, endpoint_url=S3_ENDPOINT)"
   ]
  },
  {
   "cell_type": "code",
   "execution_count": null,
   "id": "b49111f7-efca-4a9f-992e-f3d8faaf7fce",
   "metadata": {},
   "outputs": [],
   "source": [
    "object = s3resource.Object(bucket_name, 'application-package/s-expression/s-expression-0_0_2.cwl')\n",
    "result = object.put(Body=open('../data/s-expression-cwl.cwl', 'rb'))\n",
    "res = result.get('ResponseMetadata')\n",
    "if res.get('HTTPStatusCode') == 200:\n",
    "    print('Application package uploaded successfully')\n",
    "else:\n",
    "    print('Application package not uploaded')"
   ]
  },
  {
   "cell_type": "markdown",
   "id": "1c80f1c4-b023-431e-a202-4a7e805ad35e",
   "metadata": {},
   "source": [
    "Now we register the application package:"
   ]
  },
  {
   "cell_type": "code",
   "execution_count": null,
   "id": "5f5ae258-9550-4a38-806a-693e83513aca",
   "metadata": {},
   "outputs": [],
   "source": [
    "resource_url= f'{bucket_name}/application-package/s-expression/s-expression-0_0_2.cwl'\n",
    "response = requests.post(\n",
    "    f\"{workspaces_endpoint}/{actual_workspace_name}/register\",\n",
    "    json={\n",
    "        \"type\": \"application\",\n",
    "        \"url\": resource_url,\n",
    "    }\n",
    ")\n",
    "response.raise_for_status()\n",
    "response"
   ]
  },
  {
   "cell_type": "markdown",
   "id": "6df9ef6f-5069-4a7c-9bbb-0c8449fcb32f",
   "metadata": {},
   "source": [
    "Now we check the registration result:"
   ]
  },
  {
   "cell_type": "code",
   "execution_count": null,
   "id": "dc930c41-70ac-4ecf-8b42-fab644ac7acf",
   "metadata": {},
   "outputs": [],
   "source": [
    "workspace_catalogue_endpoint = f'https://resource-catalogue.{actual_workspace_name}.{domain}'"
   ]
  },
  {
   "cell_type": "code",
   "execution_count": null,
   "id": "30a41b5b-a0d5-4878-9079-45e1099414c6",
   "metadata": {},
   "outputs": [],
   "source": [
    "import time\n",
    "time.sleep(1)\n",
    "response = requests.get(f\"{workspace_catalogue_endpoint}/collections/metadata:main/items?type=application\")\n",
    "response.raise_for_status()\n",
    "response.json()"
   ]
  },
  {
   "cell_type": "markdown",
   "id": "9e6a6db9-e7fb-4ccb-8993-0c90f8fb2314",
   "metadata": {},
   "source": [
    "## Upload data to the workspace"
   ]
  },
  {
   "cell_type": "markdown",
   "id": "39daef8b-4a91-46f3-9ba7-3549a03b6dd6",
   "metadata": {
    "tags": []
   },
   "source": [
    "We will now upload a dataset to the workspace:"
   ]
  },
  {
   "cell_type": "code",
   "execution_count": null,
   "id": "59cd2bbf-169a-4afb-bc74-3228a9d01842",
   "metadata": {},
   "outputs": [],
   "source": [
    "import os\n",
    "from os.path import relpath, join\n",
    "import boto3\n",
    "\n",
    "s3_client = boto3.client(\n",
    "    service_name='s3',\n",
    "    endpoint_url=S3_ENDPOINT,\n",
    "    aws_access_key_id=s3_access,\n",
    "    aws_secret_access_key=s3_secret,\n",
    ")\n",
    "\n",
    "data_root = \"../data\"\n",
    "s3_prefix = \"testdata\"\n",
    "\n",
    "for dirpath, _, filenames in os.walk(data_root):\n",
    "    # print(dirpath, filenames)\n",
    "    for filename in filenames:\n",
    "        object_key = join(s3_prefix, relpath(join(dirpath, filename), data_root))\n",
    "        s3_client.upload_file(join(dirpath, filename), bucket_name, object_key)"
   ]
  },
  {
   "cell_type": "code",
   "execution_count": null,
   "id": "b5e74b03-9f0c-46cb-b63a-73472a3a8089",
   "metadata": {},
   "outputs": [],
   "source": [
    "import pystac\n",
    "\n",
    "normalized_root = f\"s3://{bucket_name}/{s3_prefix}/catalog.json\"\n",
    "\n",
    "catalog = pystac.read_file(f\"{data_root}/catalog.json\")\n",
    "catalog.set_self_href(normalized_root)\n",
    "catalog.normalize_hrefs(normalized_root)\n",
    "catalog.make_all_asset_hrefs_absolute()\n",
    "catalog.save(dest_href=\"../out/\", catalog_type=pystac.CatalogType.ABSOLUTE_PUBLISHED)\n",
    "# catalog.normalize_and_save(, catalog_type=pystac.CatalogType.SELF_CONTAINED)"
   ]
  },
  {
   "cell_type": "code",
   "execution_count": null,
   "id": "46d45229-3cf4-4f1b-beee-4ae4549b2f1f",
   "metadata": {},
   "outputs": [],
   "source": [
    "# See if the files are uploaded\n",
    "s3 = boto3.resource(\n",
    "    's3',\n",
    "    endpoint_url=S3_ENDPOINT,\n",
    "    aws_access_key_id=s3_access,\n",
    "    aws_secret_access_key=s3_secret\n",
    ")\n",
    "\n",
    "bucket = s3.Bucket(bucket_name)\n",
    "for obj in bucket.objects.all():\n",
    "    print(obj)"
   ]
  },
  {
   "cell_type": "markdown",
   "id": "9b1fe5dc-4142-4baf-aa50-d42ad671227a",
   "metadata": {},
   "source": [
    "A user workspace is a place for user data to be stored and served. It consists of a user bucket, a catalog and a data access system.\n",
    "\n",
    "We will now proceed to register the uploaded files into the workspace system."
   ]
  },
  {
   "cell_type": "code",
   "execution_count": null,
   "id": "2b307f9a-c791-4606-b9c4-67755c67e4bc",
   "metadata": {},
   "outputs": [],
   "source": [
    "register_url = f\"{workspaces_endpoint}/{actual_workspace_name}/register\"\n",
    "\n",
    "response = requests.post(\n",
    "    register_url,\n",
    "    json={\n",
    "        \"type\": \"stac-item\",\n",
    "        \"url\": f\"s3://{bucket_name}/{s3_prefix}/catalog.json\",\n",
    "    }\n",
    ")\n",
    "response.json()"
   ]
  },
  {
   "cell_type": "code",
   "execution_count": null,
   "id": "4c53a0dc-d4dc-4a41-bc63-03e3597eb8ca",
   "metadata": {},
   "outputs": [],
   "source": [
    "# helper function to do WMS GetMap requests and directly display the result in the notebook\n",
    "def get_map(wms, layers, bbox, styles=None, size=None, srs='EPSG:4326', transparent=True, format=\"image/png\", **kwargs):\n",
    "    # if no specific size is passed, calculate one fitting the aspect ratio of the bbox\n",
    "    if size is None:\n",
    "        ratio = (bbox[3] - bbox[1])/(bbox[2] - bbox[0])\n",
    "        width = 600\n",
    "        height = int(ratio * width)\n",
    "        size = (width, height)\n",
    "\n",
    "    # qol helpers\n",
    "    if isinstance(layers, str):\n",
    "        layers = [layers]\n",
    "    if isinstance(styles, str):\n",
    "        styles = [styles]\n",
    "\n",
    "    result = wms.getmap(\n",
    "        layers=layers,\n",
    "        styles=styles,\n",
    "        size=size,\n",
    "        srs=srs,\n",
    "        bbox=bbox,\n",
    "        format=format,\n",
    "        transparent=transparent,\n",
    "        **kwargs\n",
    "    )\n",
    "    return Image(result.read())"
   ]
  },
  {
   "cell_type": "code",
   "execution_count": null,
   "id": "4d3fa958-3882-47ee-9481-0f5a76ee8cbc",
   "metadata": {},
   "outputs": [],
   "source": [
    "from owslib.wms import WebMapService\n",
    "from IPython.display import Image\n",
    "\n",
    "data_access_base = f\"data-access.{workspace_id}.{domain}\"\n",
    "ows_endpoint = f\"https://{data_access_base}/ows\"\n",
    "# connect to the OWS endpoint using WMS\n",
    "wms = WebMapService(ows_endpoint, version='1.3.0')\n",
    "layer = wms.contents[\"S2B_MSIL2A_20190911T092029_N0213_R093_T34SFG_20190911T135255\"]\n",
    "\n",
    "bbox = layer.boundingBoxWGS84\n",
    "layer.name\n",
    "\n",
    "get_map(wms, \"S2B_MSIL2A_20190911T092029_N0213_R093_T34SFG_20190911T135255__outlines\", bbox)"
   ]
  },
  {
   "cell_type": "code",
   "execution_count": null,
   "id": "b21e1365-729a-4dc6-b230-e0bdffa039be",
   "metadata": {},
   "outputs": [],
   "source": [
    "from tifffile import imread\n",
    "from io import BytesIO\n",
    "\n",
    "# convenience function to request a coverage and read the TIFF\n",
    "def get_coverage(ows_endpoint, params):\n",
    "    response = requests.get(ows_endpoint, params=params)\n",
    "    response.raise_for_status()\n",
    "    return imread(BytesIO(response.content))"
   ]
  },
  {
   "cell_type": "code",
   "execution_count": null,
   "id": "5991b93c-32d3-4bcd-ba53-b839779c6300",
   "metadata": {},
   "outputs": [],
   "source": [
    "import matplotlib.pyplot as plt\n",
    "\n",
    "ndvi = get_coverage(ows_endpoint, params={\"service\": \"WCS\", \"version\": \"2.0.0\", \"request\": \"GetCoverage\", \"coverageid\": \"S2B_MSIL2A_20190911T092029_N0213_R093_T34SFG_20190911T135255_ndvi\", \"format\": \"image/tiff\", \"scaleFactor\": \"0.10\"})\n",
    "plt.imshow(ndvi, aspect=\"auto\")"
   ]
  },
  {
   "cell_type": "markdown",
   "id": "ca9342a1-5999-4c03-a0e7-6896115d4ceb",
   "metadata": {
    "tags": []
   },
   "source": [
    "## Discover data with the workspace catalogue"
   ]
  },
  {
   "cell_type": "code",
   "execution_count": null,
   "id": "7692fd42-095e-4456-bfc9-14de722780d9",
   "metadata": {},
   "outputs": [],
   "source": [
    "from owslib.csw import CatalogueServiceWeb"
   ]
  },
  {
   "cell_type": "code",
   "execution_count": null,
   "id": "f79fa5f4-9fe3-4159-9e23-adf4ee69a4e1",
   "metadata": {},
   "outputs": [],
   "source": [
    "workspace_catalogue_endpoint = f'https://resource-catalogue.{actual_workspace_name}.{domain}'\n",
    "workspace_catalogue_csw = f'{workspace_catalogue_endpoint}/csw'"
   ]
  },
  {
   "cell_type": "code",
   "execution_count": null,
   "id": "22e7a3de-72cf-41b0-b742-609d52a966f4",
   "metadata": {},
   "outputs": [],
   "source": [
    "import time\n",
    "time.sleep(3)\n",
    "response = requests.get(f\"{workspace_catalogue_endpoint}/collections/metadata:main/items?type=application\", headers=dict(f=\"json\", **headers))\n",
    "response.raise_for_status()\n",
    "response.json()"
   ]
  },
  {
   "cell_type": "code",
   "execution_count": null,
   "id": "6a8b9b90-dddc-417a-b31d-916dd9ab582a",
   "metadata": {
    "tags": []
   },
   "outputs": [],
   "source": [
    "headers = {\n",
    "    'Authorization': 'Bearer ' + user_id_token\n",
    "}"
   ]
  },
  {
   "cell_type": "markdown",
   "id": "e18d507d-3ff2-45bc-99c7-0a3a3d835483",
   "metadata": {},
   "source": [
    "List all records identifier, type and title in workspace catalogue"
   ]
  },
  {
   "cell_type": "code",
   "execution_count": null,
   "id": "7bcf1357-8540-43f4-b913-9a81b15a0fca",
   "metadata": {},
   "outputs": [],
   "source": [
    "csw = CatalogueServiceWeb(workspace_catalogue_csw, timeout=30,headers=headers)\n",
    "csw.getrecords2(maxrecords=10)\n",
    "csw.results"
   ]
  },
  {
   "cell_type": "code",
   "execution_count": null,
   "id": "d10a84f9-2148-4b5e-aa01-14eeb719702a",
   "metadata": {},
   "outputs": [],
   "source": [
    "for rec in csw.records:\n",
    "    print(f'identifier: {csw.records[rec].identifier}\\ntype: {csw.records[rec].type}\\ntitle: {csw.records[rec].title}\\n')"
   ]
  },
  {
   "cell_type": "code",
   "execution_count": null,
   "id": "26aea793-398b-4a96-92ee-2a5f2a0ed3ef",
   "metadata": {
    "tags": []
   },
   "outputs": [],
   "source": [
    "csw.records['s-expression'].references"
   ]
  }
 ],
 "metadata": {
  "kernelspec": {
   "display_name": "Python 3",
   "language": "python",
   "name": "python3"
  },
  "language_info": {
   "codemirror_mode": {
    "name": "ipython",
    "version": 3
   },
   "file_extension": ".py",
   "mimetype": "text/x-python",
   "name": "python",
   "nbconvert_exporter": "python",
   "pygments_lexer": "ipython3",
   "version": "3.9.2"
  }
 },
 "nbformat": 4,
 "nbformat_minor": 5
}
