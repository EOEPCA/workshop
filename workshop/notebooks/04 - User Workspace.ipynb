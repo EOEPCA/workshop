{
 "cells": [
  {
   "cell_type": "markdown",
   "id": "9e26ddf0-8a86-4578-ba7f-37e80d8639f2",
   "metadata": {},
   "source": [
    "# User Workspace"
   ]
  },
  {
   "cell_type": "markdown",
   "id": "fb9ab036-31d7-4f21-a870-de01169d5837",
   "metadata": {},
   "source": [
    "This section completes the tutorial workflow by:\n",
    "* Registering the user's processing results in their workspace\n",
    "* Inspecting their product metadata via their Resource Catalogue\n",
    "* Visualising their results via the Data Access services"
   ]
  },
  {
   "cell_type": "code",
   "execution_count": 2,
   "id": "3021ca91-6c67-4b87-add9-9e723fe4b494",
   "metadata": {},
   "outputs": [],
   "source": [
    "domain = \"demo.eoepca.org\""
   ]
  },
  {
   "cell_type": "code",
   "execution_count": 3,
   "id": "706bf507-c8a4-435b-bfe5-c5371bf92470",
   "metadata": {},
   "outputs": [],
   "source": [
    "workspace_api = f\"workspace_api.{domain}\""
   ]
  }
 ],
 "metadata": {
  "kernelspec": {
   "display_name": "Python 3",
   "language": "python",
   "name": "python3"
  },
  "language_info": {
   "codemirror_mode": {
    "name": "ipython",
    "version": 3
   },
   "file_extension": ".py",
   "mimetype": "text/x-python",
   "name": "python",
   "nbconvert_exporter": "python",
   "pygments_lexer": "ipython3",
   "version": "3.9.2"
  }
 },
 "nbformat": 4,
 "nbformat_minor": 5
}
