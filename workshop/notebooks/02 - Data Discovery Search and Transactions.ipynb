{
 "cells": [
  {
   "cell_type": "markdown",
   "id": "b620b9ea-0c94-4ff7-9dea-1fbb630ad786",
   "metadata": {},
   "source": [
    "# Data Discovery, Search and Transactions"
   ]
  },
  {
   "cell_type": "markdown",
   "id": "cc873816-e9dc-42d6-bf2e-fad3d3b6e931",
   "metadata": {
    "tags": []
   },
   "source": [
    "This part of the Workshop will demonstrate the EOEPCA Resource Catalogue building block. The Resource Catalogue is built upon the OSGeo project [pycsw](https://pycsw.org/). \n",
    "\n",
    "[pycsw](https://pycsw.org/) is an OGC API - Records and OGC CSW server implementation written in Python. Started in 2010 (more formally announced in 2011), pycsw allows for the publishing and discovery of geospatial metadata via numerous APIs (CSW 2/CSW 3, OpenSearch, OGC API - Records, OAI-PMH, SRU), providing a standards-based metadata and catalogue component of spatial data infrastructures. \n",
    "\n",
    "pycsw is Open Source, released under an MIT license, and runs on all major platforms (Windows, Linux, Mac OS X).\n",
    "\n",
    "pycsw is [Certified OGC Compliant](https://www.ogc.org/resources/product-details/?pid=1661) and is an [OGC Reference Implementation](https://www.ogc.org/resources/product-details/?pid=1661)\n",
    "\n",
    "EOEPCA Resource Catalogue is powered by the upcoming version 3.x of pycsw. You can find more details in the [pycsw documentation](https://docs.pycsw.org/en/latest/) or the recent [FOSS4G presentation](https://pycsw.org/publications/foss4g2023/#/)"
   ]
  },
  {
   "cell_type": "markdown",
   "id": "d79dddbd-544a-431c-af99-70d5d4db3841",
   "metadata": {},
   "source": [
    "In this notebook, we will demonstrate data discovery, search and transactions using Python.\n",
    "\n",
    "More specifically we are going to use the OWSLib python library.\n",
    "\n",
    "[OWSLib](https://geopython.github.io/OWSLib) is a Python package for client programming with Open Geospatial Consortium (OGC) web service (hence OWS) interface standards, and their related content models. In this demo we’ll work with the CSW, OGC API - Records and OpenSearch interfaces."
   ]
  },
  {
   "cell_type": "code",
   "execution_count": null,
   "id": "a27a0624-dffc-4575-b352-b64f4b149433",
   "metadata": {},
   "outputs": [],
   "source": [
    "from owslib.csw import CatalogueServiceWeb\n",
    "from owslib.ogcapi.records import Records\n",
    "from owslib.opensearch import OpenSearch\n",
    "from owslib.fes import And, Or, PropertyIsEqualTo, PropertyIsGreaterThanOrEqualTo, PropertyIsLessThanOrEqualTo, PropertyIsLike, BBox, SortBy, SortProperty\n",
    "from geolinks import sniff_link\n",
    "import folium\n",
    "import json"
   ]
  },
  {
   "cell_type": "markdown",
   "id": "a79eb1e5-bb3f-4658-938c-f92bbd504669",
   "metadata": {},
   "source": [
    "First we define the url of the EOEPCA Resource Catalogue (demonstration cluster)."
   ]
  },
  {
   "cell_type": "code",
   "execution_count": null,
   "id": "777ee0d5-1cef-4ba2-aace-ad5ca9970dd9",
   "metadata": {},
   "outputs": [],
   "source": [
    "domain = \"demo.eoepca.org\"\n",
    "#domain = \"develop.eoepca.org\""
   ]
  },
  {
   "cell_type": "code",
   "execution_count": null,
   "id": "70e1e9cc-0c03-4ec0-8d23-8d6dde367b6d",
   "metadata": {},
   "outputs": [],
   "source": [
    "system_catalogue_endpoint = f\"https://resource-catalogue.{domain}/\""
   ]
  },
  {
   "cell_type": "markdown",
   "id": "2ed66803-2675-4496-bd58-667be35f1afc",
   "metadata": {},
   "source": [
    "### Data Discovery with OGC CSW"
   ]
  },
  {
   "cell_type": "markdown",
   "id": "7e0b3566-8284-442c-99bc-dc5d300b6be8",
   "metadata": {},
   "source": [
    "In this part of the workshop, the user will use the Resource Catalogue CSW endpoint to discover data collections and datasets.\n",
    "The `owslib.csw` class of OWSLib is instantiated and service metadata are shown."
   ]
  },
  {
   "cell_type": "code",
   "execution_count": null,
   "id": "f8a7db6d-8eb0-48b6-9554-8b6aed9a1d79",
   "metadata": {},
   "outputs": [],
   "source": [
    "csw_endpoint = f'{system_catalogue_endpoint}/csw'"
   ]
  },
  {
   "cell_type": "code",
   "execution_count": null,
   "id": "d2ac7ea5-f575-43fa-8830-8b5e10e1fa82",
   "metadata": {},
   "outputs": [],
   "source": [
    "csw = CatalogueServiceWeb(csw_endpoint, timeout=30)"
   ]
  },
  {
   "cell_type": "markdown",
   "id": "f412320c-7a06-450b-b4ee-d0e9e73dea7d",
   "metadata": {},
   "source": [
    "Service metadata shown here includes identification type (from ISO-19115), CSW version and supported operations"
   ]
  },
  {
   "cell_type": "code",
   "execution_count": null,
   "id": "11482f72-0a89-4bc0-aada-968b4f0291cb",
   "metadata": {},
   "outputs": [],
   "source": [
    "csw.identification.type"
   ]
  },
  {
   "cell_type": "code",
   "execution_count": null,
   "id": "d83df832-4d9a-4613-a7e3-c5a805a6e5e0",
   "metadata": {},
   "outputs": [],
   "source": [
    "csw.version"
   ]
  },
  {
   "cell_type": "code",
   "execution_count": null,
   "id": "5c003073-65a1-493c-a3c3-e0ee2d46928a",
   "metadata": {},
   "outputs": [],
   "source": [
    "[op.name for op in csw.operations]"
   ]
  },
  {
   "cell_type": "markdown",
   "id": "1f60c0bb-ce26-4b0c-865d-318b7fbc6ba1",
   "metadata": {},
   "source": [
    "As well as catalogue queryables:"
   ]
  },
  {
   "cell_type": "code",
   "execution_count": null,
   "id": "78f92aff-9e8e-41f2-b4f7-e86aabf7ced0",
   "metadata": {},
   "outputs": [],
   "source": [
    "csw.get_operation_by_name('GetRecords').constraints"
   ]
  },
  {
   "cell_type": "markdown",
   "id": "74270b68-3f24-4b38-820c-fec22994716b",
   "metadata": {},
   "source": [
    "The user can make a GetRecords request to get all records of the catalogue, with a page limit of 10."
   ]
  },
  {
   "cell_type": "code",
   "execution_count": null,
   "id": "6d400f7d-9de1-48a9-a0df-2fc22d3137af",
   "metadata": {},
   "outputs": [],
   "source": [
    "csw.getrecords2(maxrecords=10)\n",
    "csw.results"
   ]
  },
  {
   "cell_type": "code",
   "execution_count": null,
   "id": "85510f80-0b4b-49c6-821e-e5f06307319b",
   "metadata": {},
   "outputs": [],
   "source": [
    "for rec in csw.records:\n",
    "    print(f'identifier: {csw.records[rec].identifier}\\ntype: {csw.records[rec].type}\\ntitle: {csw.records[rec].title}\\n')"
   ]
  },
  {
   "cell_type": "markdown",
   "id": "4b576d88-52fe-4b14-bd28-f5fe93f24a97",
   "metadata": {},
   "source": [
    "If the user wishes to discover data with usage of filters, an OGC Filter can be used. Here we demonstrate how to create spatial (`bbox`), temporal (`time`), and attribute (`apiso:CloudCover`) filters combined with logical operators like and/or"
   ]
  },
  {
   "cell_type": "code",
   "execution_count": null,
   "id": "49d60eb0-ffe6-47fc-824e-a713dd90a997",
   "metadata": {},
   "outputs": [],
   "source": [
    "bbox_query = BBox([37, 13.9, 37.9, 15.1])"
   ]
  },
  {
   "cell_type": "code",
   "execution_count": null,
   "id": "b5f71069-c243-4991-ba10-8981f6ee8166",
   "metadata": {},
   "outputs": [],
   "source": [
    "begin = PropertyIsGreaterThanOrEqualTo(propertyname='apiso:TempExtent_begin', literal='2019-09-10 00:00')"
   ]
  },
  {
   "cell_type": "code",
   "execution_count": null,
   "id": "0aa02a17-0163-461f-99a8-042e15a0d17b",
   "metadata": {},
   "outputs": [],
   "source": [
    "end = PropertyIsLessThanOrEqualTo(propertyname='apiso:TempExtent_end', literal='2019-09-12 00:00')"
   ]
  },
  {
   "cell_type": "code",
   "execution_count": null,
   "id": "fe3f7eaa-1473-4b0c-bd7f-0c5d20366e87",
   "metadata": {},
   "outputs": [],
   "source": [
    "cloud = PropertyIsLessThanOrEqualTo(propertyname='apiso:CloudCover', literal='20')"
   ]
  },
  {
   "cell_type": "code",
   "execution_count": null,
   "id": "6ff43137-e57a-4d5b-9030-a62906c42416",
   "metadata": {},
   "outputs": [],
   "source": [
    "filter_list = [\n",
    "    And(\n",
    "        [\n",
    "            bbox_query,  # bounding box\n",
    "            begin, end,  # start and end date\n",
    "            cloud        # cloud\n",
    "        ]\n",
    "    )\n",
    "]"
   ]
  },
  {
   "cell_type": "markdown",
   "id": "f0f2b897-933b-4787-8a18-ba092beb741b",
   "metadata": {},
   "source": [
    "The filter is then applied to the GetRecords request and results are shown:"
   ]
  },
  {
   "cell_type": "code",
   "execution_count": null,
   "id": "eca6ea94-8bf5-4cae-b4db-1cf09083621a",
   "metadata": {},
   "outputs": [],
   "source": [
    "csw.getrecords2(constraints=filter_list, outputschema='http://www.isotc211.org/2005/gmd')\n",
    "csw.results"
   ]
  },
  {
   "cell_type": "code",
   "execution_count": null,
   "id": "6fb41a92-07e5-4024-84de-a337bef73882",
   "metadata": {},
   "outputs": [],
   "source": [
    "selected_record = list(csw.records)[1]"
   ]
  },
  {
   "cell_type": "code",
   "execution_count": null,
   "id": "bbf92e1e-6046-4637-b45c-1cfdb2d662e8",
   "metadata": {},
   "outputs": [],
   "source": [
    "for rec in csw.records:\n",
    "    print(f'identifier: {csw.records[rec].identifier}\\ntype: {csw.records[rec].identification[0].identtype}\\ntitle: {csw.records[rec].identification[0].title}\\n')"
   ]
  },
  {
   "cell_type": "markdown",
   "id": "b7997bf8-28c7-45c1-b406-e5bd3f09c9d2",
   "metadata": {},
   "source": [
    "Another option is to perform a collection level search, using the `apiso:parentIdentifier` queryable. Here only the Sentinel2 L1C datasets will be discovered."
   ]
  },
  {
   "cell_type": "code",
   "execution_count": null,
   "id": "4f441242-1a82-4663-b4e1-9ed0bbcdbc20",
   "metadata": {},
   "outputs": [],
   "source": [
    "collection_query = PropertyIsEqualTo('apiso:ParentIdentifier', 'S2MSI1C')"
   ]
  },
  {
   "cell_type": "code",
   "execution_count": null,
   "id": "aee5a20f-cab6-4451-b1b9-fd0db3a274bf",
   "metadata": {},
   "outputs": [],
   "source": [
    "csw.getrecords2(constraints=[collection_query], outputschema='http://www.isotc211.org/2005/gmd')\n",
    "csw.results"
   ]
  },
  {
   "cell_type": "markdown",
   "id": "76d02bc3-54cf-4349-9b1a-c4cdb61800bb",
   "metadata": {},
   "source": [
    "Or we can just search using the bbox filter"
   ]
  },
  {
   "cell_type": "code",
   "execution_count": null,
   "id": "1fa9b55c-a981-43b0-b5cd-8335e894746f",
   "metadata": {},
   "outputs": [],
   "source": [
    "csw.getrecords2(constraints=[bbox_query], outputschema='http://www.isotc211.org/2005/gmd')\n",
    "csw.results"
   ]
  },
  {
   "cell_type": "markdown",
   "id": "48381f11-e262-4c00-827f-59c78bc1cefb",
   "metadata": {},
   "source": [
    "Or we can perform a full text search (here the keyword Orthoimagery is used)"
   ]
  },
  {
   "cell_type": "code",
   "execution_count": null,
   "id": "45d443e8-0ac0-4d84-a7d0-0aa223495840",
   "metadata": {},
   "outputs": [],
   "source": [
    "anytext_query = PropertyIsEqualTo('csw:AnyText', 'Orthoimagery')"
   ]
  },
  {
   "cell_type": "code",
   "execution_count": null,
   "id": "95360e2b-2a1a-4d60-b9f5-3017cc3c9773",
   "metadata": {},
   "outputs": [],
   "source": [
    "filter_list = [\n",
    "    And(\n",
    "        [\n",
    "            bbox_query,  # bounding box\n",
    "            anytext_query # any text\n",
    "        ]\n",
    "    )\n",
    "]"
   ]
  },
  {
   "cell_type": "code",
   "execution_count": null,
   "id": "7a7a416b-732c-4c42-9f98-65a165edf3c5",
   "metadata": {},
   "outputs": [],
   "source": [
    "csw.getrecords2(constraints=filter_list)\n",
    "csw.results"
   ]
  },
  {
   "cell_type": "markdown",
   "id": "e8e44428-19da-4302-ac98-f8788c669804",
   "metadata": {},
   "source": [
    "We can also iterate through the catalogue search results by passing the `startposition` and `maxrecords` parameters to GetRecords request:"
   ]
  },
  {
   "cell_type": "code",
   "execution_count": null,
   "id": "e1de9fbf-b162-4598-a715-552749dae7ec",
   "metadata": {},
   "outputs": [],
   "source": [
    "csw_records = {}\n",
    "sortby = SortBy([SortProperty('dc:title', 'ASC')])\n",
    "pagesize=10\n",
    "maxrecords=20\n",
    "startposition = 0\n",
    "nextrecord = getattr(csw, 'results', 1)\n",
    "while nextrecord != 0:\n",
    "    csw.getrecords2(constraints=[anytext_query], startposition=startposition,\n",
    "                    maxrecords=pagesize, sortby=sortby)\n",
    "    csw_records.update(csw.records)\n",
    "    if csw.results['nextrecord'] == 0:\n",
    "        break\n",
    "    startposition += pagesize\n",
    "    if startposition >= maxrecords:\n",
    "        break\n",
    "csw.records.update(csw_records)\n",
    "records = '\\n'.join(csw.records.keys())\n",
    "print('Found {} records.\\n'.format(len(csw.records.keys())))\n",
    "for key, value in list(csw.records.items()):\n",
    "    print(f'identifier: {value.identifier}\\ntype: {value.type}\\ntitle: {value.title}\\n')"
   ]
  },
  {
   "cell_type": "markdown",
   "id": "dcfed916-8d1d-427d-9b12-83674b2a243a",
   "metadata": {},
   "source": [
    "The user then selects a record identifier and asks the catalogue to fetch the full record. Here we demonstrate how to obtain properties like title, bbox, full xml and links from the metadata record."
   ]
  },
  {
   "cell_type": "code",
   "execution_count": null,
   "id": "9f2b2c0d-44c9-4d54-8920-1ff976559b2b",
   "metadata": {},
   "outputs": [],
   "source": [
    "csw.getrecordbyid(id=[selected_record])"
   ]
  },
  {
   "cell_type": "code",
   "execution_count": null,
   "id": "97f60ffa-3295-40c6-a65a-ec380c7600b3",
   "metadata": {},
   "outputs": [],
   "source": [
    "rec = csw.records[selected_record]"
   ]
  },
  {
   "cell_type": "code",
   "execution_count": null,
   "id": "60c4cd32-597b-4a24-8b61-e36974999a65",
   "metadata": {},
   "outputs": [],
   "source": [
    "rec.title"
   ]
  },
  {
   "cell_type": "code",
   "execution_count": null,
   "id": "1dd05101-0ddb-4872-8646-f9f11cc08956",
   "metadata": {},
   "outputs": [],
   "source": [
    "rec.xml"
   ]
  },
  {
   "cell_type": "code",
   "execution_count": null,
   "id": "1eb03a90-eb4f-4994-abbc-476534fc781d",
   "metadata": {},
   "outputs": [],
   "source": [
    "rec.references"
   ]
  },
  {
   "cell_type": "code",
   "execution_count": null,
   "id": "b3994930-3db1-4bc5-b9fa-94899e7b9f8b",
   "metadata": {},
   "outputs": [],
   "source": [
    "print(\"dataset bbox = (%s, %s, %s, %s)\" % (rec.bbox.miny, rec.bbox.minx, rec.bbox.maxy, rec.bbox.maxx))"
   ]
  },
  {
   "cell_type": "markdown",
   "id": "ca1c4691-9f27-4ecf-b77c-28243c36992d",
   "metadata": {},
   "source": [
    "Using the [geolinks](https://github.com/geopython/geolinks) Python library we can filter the links that are of a specific type (here WMS and WCS links to be used for visualization)"
   ]
  },
  {
   "cell_type": "code",
   "execution_count": null,
   "id": "55e44b13-c80c-443e-8ce0-3f0b684dad97",
   "metadata": {},
   "outputs": [],
   "source": [
    "msg = 'geolink: {geolink}\\nscheme: {scheme}\\nURL: {url}\\n'.format\n",
    "for ref in rec.references:\n",
    "    print(msg(geolink=sniff_link(ref['url']), **ref))"
   ]
  },
  {
   "cell_type": "code",
   "execution_count": null,
   "id": "ca5ab697-4976-453c-a94b-34c9db4cf10c",
   "metadata": {},
   "outputs": [],
   "source": [
    "for ref in rec.references:\n",
    "    url = ref['url']\n",
    "    if 'WMS' in url:\n",
    "        print(msg(geolink=sniff_link(url), **ref))\n",
    "        break"
   ]
  },
  {
   "cell_type": "code",
   "execution_count": null,
   "id": "1d9d3d5a-db12-4b4f-885f-e1eb1c1c42ef",
   "metadata": {},
   "outputs": [],
   "source": [
    "for ref in rec.references:\n",
    "    url = ref['url']\n",
    "    if 'WCS' in url:\n",
    "        print(msg(geolink=sniff_link(url), **ref))\n",
    "        break"
   ]
  },
  {
   "cell_type": "markdown",
   "id": "fc4f6570-8ea0-4b06-80ed-593ebc3994cf",
   "metadata": {},
   "source": [
    "We demonstrate how to show the record footprint on a map, using the [Folium](https://github.com/python-visualization/folium) Python library:"
   ]
  },
  {
   "cell_type": "code",
   "execution_count": null,
   "id": "c5bd3143-1b51-47be-a1c7-ac158842e65d",
   "metadata": {},
   "outputs": [],
   "source": [
    "m = folium.Map(location=[38, 20], zoom_start=6, tiles='OpenStreetMap')\n",
    "folium.Rectangle(bounds=[[float(rec.bbox.miny), float(rec.bbox.minx)], [float(rec.bbox.maxy), float(rec.bbox.maxx)]]).add_to(m)\n",
    "m"
   ]
  },
  {
   "cell_type": "markdown",
   "id": "2b7f312d-5886-4b7c-a974-26a132200178",
   "metadata": {},
   "source": [
    "### Data Discovery with OpenSearch"
   ]
  },
  {
   "cell_type": "markdown",
   "id": "0fb9f730-ef73-4ad7-8f63-0595db184482",
   "metadata": {},
   "source": [
    "In this part of the demo, the user will use the OpenSearch capability of the system resource catalogue to discover datasets."
   ]
  },
  {
   "cell_type": "code",
   "execution_count": null,
   "id": "8b7cf7a3-818e-4c79-a029-68af4be5b5f2",
   "metadata": {},
   "outputs": [],
   "source": [
    "opensearch_endpoint = f'{csw_endpoint}?service=CSW&version=3.0.0&request=GetCapabilities&mode=opensearch'"
   ]
  },
  {
   "cell_type": "markdown",
   "id": "03f66d80-74d2-4ac2-a168-d95cb8c8d871",
   "metadata": {},
   "source": [
    "Here, the OWSLib OpenSearch client is used."
   ]
  },
  {
   "cell_type": "code",
   "execution_count": null,
   "id": "4d41a72a-b612-478e-a2a9-32fa0f27d42d",
   "metadata": {},
   "outputs": [],
   "source": [
    "os = OpenSearch(opensearch_endpoint)"
   ]
  },
  {
   "cell_type": "markdown",
   "id": "d405c12b-1794-4a90-b64c-d8efef4d93f2",
   "metadata": {},
   "source": [
    "We use the description object to retrieve service metadata."
   ]
  },
  {
   "cell_type": "code",
   "execution_count": null,
   "id": "c47e596c-545c-438d-a239-f2d007c5b7ab",
   "metadata": {},
   "outputs": [],
   "source": [
    "os.description.shortname"
   ]
  },
  {
   "cell_type": "code",
   "execution_count": null,
   "id": "f1eef836-35b7-4b09-8c6b-c562f9acb140",
   "metadata": {},
   "outputs": [],
   "source": [
    "os.description.longname"
   ]
  },
  {
   "cell_type": "code",
   "execution_count": null,
   "id": "139ac28a-9ada-4f32-bf49-f43291127358",
   "metadata": {},
   "outputs": [],
   "source": [
    "os.description.description"
   ]
  },
  {
   "cell_type": "code",
   "execution_count": null,
   "id": "a4d63088-2995-4505-870f-fcf75fa2c5cc",
   "metadata": {},
   "outputs": [],
   "source": [
    "os.description.urls"
   ]
  },
  {
   "cell_type": "code",
   "execution_count": null,
   "id": "27306057-549d-4f37-a24d-2d0fbd82980c",
   "metadata": {},
   "outputs": [],
   "source": [
    "os.description.tags"
   ]
  },
  {
   "cell_type": "markdown",
   "id": "d04f2a7c-7b33-4674-9f81-d9932bf69150",
   "metadata": {},
   "source": [
    "Another posibility is to use the HTTP GET requests directly with a generic client like requests."
   ]
  },
  {
   "cell_type": "code",
   "execution_count": null,
   "id": "0191b22c-1859-4049-86c7-225c0b1dcae1",
   "metadata": {},
   "outputs": [],
   "source": [
    "import requests\n",
    "from bs4 import BeautifulSoup"
   ]
  },
  {
   "cell_type": "code",
   "execution_count": null,
   "id": "1ad054a2-a214-4f8b-86e7-d39560b538de",
   "metadata": {},
   "outputs": [],
   "source": [
    "S = requests.Session()"
   ]
  },
  {
   "cell_type": "markdown",
   "id": "e5f95f8a-d95a-4845-95f4-4ec6c44f37f4",
   "metadata": {},
   "source": [
    "Here, the user asks for the OpenSearch entrypoint template"
   ]
  },
  {
   "cell_type": "code",
   "execution_count": null,
   "id": "0160bbe5-1ea7-4949-9852-6963c0916f1a",
   "metadata": {},
   "outputs": [],
   "source": [
    "R = S.get(url=opensearch_endpoint)\n",
    "bs = BeautifulSoup(R.text, 'xml')\n",
    "print(bs.prettify())"
   ]
  },
  {
   "cell_type": "markdown",
   "id": "7420f27a-4c59-46fd-b789-fae75081b4e6",
   "metadata": {},
   "source": [
    "A GetRecords request (in the context of OpenSearch) is performed"
   ]
  },
  {
   "cell_type": "code",
   "execution_count": null,
   "id": "4bdae07c-6733-4193-9d68-c5a55bd8a921",
   "metadata": {},
   "outputs": [],
   "source": [
    "url = csw_endpoint + '?mode=opensearch&service=CSW&version=3.0.0&request=GetRecords&elementsetname=full&resulttype=results&typenames=csw:Record'\n",
    "R = S.get(url=url)\n",
    "bs = BeautifulSoup(R.text, 'xml')\n",
    "print(bs.prettify())"
   ]
  },
  {
   "cell_type": "markdown",
   "id": "43d3d292-d9c1-488f-95a0-f50f8b556a5c",
   "metadata": {},
   "source": [
    "A collections search is also demonstrated, for Sentinel2 Level 2A results"
   ]
  },
  {
   "cell_type": "code",
   "execution_count": null,
   "id": "a5dc7b10-6df1-49db-8ac7-f10d7e3dfb00",
   "metadata": {},
   "outputs": [],
   "source": [
    "url = csw_endpoint + '?mode=opensearch&service=CSW&version=3.0.0&request=GetRecords&elementsetname=full&resulttype=results&typenames=csw:Record&eo:parentIdentifier=S2MSI2A'\n",
    "R = S.get(url=url)\n",
    "bs = BeautifulSoup(R.text, 'xml')\n",
    "print(bs.prettify())"
   ]
  },
  {
   "cell_type": "markdown",
   "id": "58e65840-e171-4ee8-be55-dd7e8d088b94",
   "metadata": {},
   "source": [
    "The user can also use OpenSearch EO mathematical notation to filter based on other parameters"
   ]
  },
  {
   "cell_type": "code",
   "execution_count": null,
   "id": "669c41cd-76dd-44e1-8e65-6a4f9a790fd7",
   "metadata": {},
   "outputs": [],
   "source": [
    "# OpenSearch EO mathematical notation\n",
    "# n1 equal to field = n1\n",
    "# {n1,n2,…} equals to field=n1 OR field=n2 OR …\n",
    "# [n1,n2] equal to n1 <= field <= n2\n",
    "# [n1,n2[ equals to n1 <= field < n2\n",
    "# ]n1,n2[ equals to n1 < field < n2\n",
    "# ]n1,n2] equal to n1 < field  <= n2\n",
    "# [n1 equals to n1<= field\n",
    "# ]n1 equals to n1 < field\n",
    "# n2] equals to field <= n2\n",
    "# n2[ equals to field < n2\n",
    "\n",
    "url = csw_endpoint + '?mode=opensearch&service=CSW&version=3.0.0&request=GetRecords&elementsetname=full&resulttype=results&typenames=csw:Record&eo:cloudCover=]20'\n",
    "R = S.get(url=url)\n",
    "bs = BeautifulSoup(R.text, 'xml')\n",
    "print(bs.prettify())"
   ]
  },
  {
   "cell_type": "markdown",
   "id": "fdd4ec71-3146-4233-b0a7-a411a391bd3c",
   "metadata": {},
   "source": [
    "The user can get one record using the identifier through the OpenSearch EO API:"
   ]
  },
  {
   "cell_type": "code",
   "execution_count": null,
   "id": "c971e7ec-a627-4507-be12-32757361f1dc",
   "metadata": {},
   "outputs": [],
   "source": [
    "url = csw_endpoint + '?mode=opensearch&service=CSW&version=3.0.0&request=GetRecords&elementsetname=full&resulttype=results&typenames=csw:Record&recordids=S2B_MSIL1C_20190910T095029_N0208_R079_T33SUB_20190910T120214.SAFE'\n",
    "R = S.get(url=url)\n",
    "bs = BeautifulSoup(R.text, 'xml')\n",
    "print(bs.prettify())"
   ]
  },
  {
   "cell_type": "markdown",
   "id": "a2b02ea7-430d-4abd-964e-fb0c3230201c",
   "metadata": {},
   "source": [
    "The user can search using a bbox parameter:"
   ]
  },
  {
   "cell_type": "code",
   "execution_count": null,
   "id": "fca2c1b4-9f16-47eb-b271-b76a5fd78caa",
   "metadata": {},
   "outputs": [],
   "source": [
    "url = csw_endpoint + '?mode=opensearch&service=CSW&version=3.0.0&request=GetRecords&elementsetname=full&resulttype=results&typenames=csw:Record&bbox=13.9,37,15.1,37.9'\n",
    "R = S.get(url=url)\n",
    "bs = BeautifulSoup(R.text, 'xml')\n",
    "print(bs.prettify())"
   ]
  },
  {
   "cell_type": "markdown",
   "id": "35aac45e-ee6d-46d6-9d4a-da7c72a071c2",
   "metadata": {},
   "source": [
    "The user can search using a time parameter:"
   ]
  },
  {
   "cell_type": "code",
   "execution_count": null,
   "id": "a66a4777-e91f-4121-95bf-49f66b07c83e",
   "metadata": {},
   "outputs": [],
   "source": [
    "url = csw_endpoint + '?mode=opensearch&service=CSW&version=3.0.0&request=GetRecords&elementsetname=full&resulttype=results&typenames=csw:Record&time=2019-09-10/2019-09-12'\n",
    "R = S.get(url=url)\n",
    "bs = BeautifulSoup(R.text, 'xml')\n",
    "print(bs.prettify())"
   ]
  },
  {
   "cell_type": "markdown",
   "id": "55f35885-05e1-4cb1-a47c-5376258b51f0",
   "metadata": {},
   "source": [
    "Or separate time start/stop parameters:"
   ]
  },
  {
   "cell_type": "code",
   "execution_count": null,
   "id": "d3c2c350-df95-4d94-b217-7f7f16162300",
   "metadata": {},
   "outputs": [],
   "source": [
    "url = csw_endpoint + '?mode=opensearch&service=CSW&version=3.0.0&request=GetRecords&elementsetname=full&resulttype=results&typenames=csw:Record&start=2019-09-10&stop=2019-09-12'\n",
    "R = S.get(url=url)\n",
    "bs = BeautifulSoup(R.text, 'xml')\n",
    "print(bs.prettify())"
   ]
  },
  {
   "cell_type": "markdown",
   "id": "87be8c7e-1469-445a-a9c6-abf8e68adbf1",
   "metadata": {},
   "source": [
    "### Data Discovery with OGC API - Records"
   ]
  },
  {
   "cell_type": "markdown",
   "id": "b89c8a16-6e4e-48d5-ba4c-7e4d52bae41f",
   "metadata": {},
   "source": [
    "In this part of the workshop, the user will use the system level resource catalogue OGC API Records endpoint to discover data datasets.\n",
    "The `owslib.ogcapi.records` class of OWSLib is instantiated and service metadata are shown."
   ]
  },
  {
   "cell_type": "code",
   "execution_count": null,
   "id": "a072c5ab-125c-4877-a01e-2fa3506a9fb0",
   "metadata": {},
   "outputs": [],
   "source": [
    "domain = \"demo.eoepca.org\"\n",
    "#domain = \"develop.eoepca.org\"\n",
    "system_catalogue_endpoint = f\"https://resource-catalogue.{domain}/\""
   ]
  },
  {
   "cell_type": "code",
   "execution_count": null,
   "id": "d881d9b4-e3df-4b4b-b87a-25772104978a",
   "metadata": {},
   "outputs": [],
   "source": [
    "w = Records(system_catalogue_endpoint)"
   ]
  },
  {
   "cell_type": "code",
   "execution_count": null,
   "id": "587c0565-7eae-46e1-aa88-0bf2b7a7fd44",
   "metadata": {},
   "outputs": [],
   "source": [
    "w.url"
   ]
  },
  {
   "cell_type": "markdown",
   "id": "54313c1e-1c2e-41ef-b006-57b4d55af9d2",
   "metadata": {},
   "source": [
    "Conformance classes supported by the OGC API Records server:"
   ]
  },
  {
   "cell_type": "code",
   "execution_count": null,
   "id": "12c9062c-6803-4dd8-b5c9-9c3f7cd01501",
   "metadata": {},
   "outputs": [],
   "source": [
    "w.conformance()"
   ]
  },
  {
   "cell_type": "markdown",
   "id": "9d69ecd9-11d5-40e2-9ae7-5df0c625d8b5",
   "metadata": {},
   "source": [
    "OpenAPI document of the OGC API Records server:"
   ]
  },
  {
   "cell_type": "code",
   "execution_count": null,
   "id": "3f8320bc-7d93-45a5-b4d3-21ff0846408f",
   "metadata": {},
   "outputs": [],
   "source": [
    "w.api()"
   ]
  },
  {
   "cell_type": "markdown",
   "id": "fd0530fa-3f4e-4fd2-a005-da4608942078",
   "metadata": {},
   "source": [
    "Collections available on the catalogue:"
   ]
  },
  {
   "cell_type": "code",
   "execution_count": null,
   "id": "49c643b3-85f7-4738-ac45-afc23305811f",
   "metadata": {},
   "outputs": [],
   "source": [
    "w.collections()"
   ]
  },
  {
   "cell_type": "code",
   "execution_count": null,
   "id": "fb9ad369-8fb2-4cdf-b046-c86c2322988f",
   "metadata": {},
   "outputs": [],
   "source": [
    "records = w.records()"
   ]
  },
  {
   "cell_type": "code",
   "execution_count": null,
   "id": "69c2b792-399d-4111-b847-f985e2f77850",
   "metadata": {},
   "outputs": [],
   "source": [
    "len(records)"
   ]
  },
  {
   "cell_type": "markdown",
   "id": "3ed89860-3ca9-4b94-b784-f31d18159742",
   "metadata": {},
   "source": [
    "The user can then specify the collection to search within the catalogue:"
   ]
  },
  {
   "cell_type": "code",
   "execution_count": null,
   "id": "e1c305e9-0a15-4b90-b45f-db6d4a00ce3d",
   "metadata": {},
   "outputs": [],
   "source": [
    "my_catalogue = w.collection('metadata:main')"
   ]
  },
  {
   "cell_type": "code",
   "execution_count": null,
   "id": "897ca88c-09ad-42d2-a593-2d66ead5c332",
   "metadata": {},
   "outputs": [],
   "source": [
    "my_catalogue['id']"
   ]
  },
  {
   "cell_type": "markdown",
   "id": "6bbd71de-1eb0-46fa-bfe8-882298c2379c",
   "metadata": {},
   "source": [
    "Collection level queryables:"
   ]
  },
  {
   "cell_type": "code",
   "execution_count": null,
   "id": "b2ae9322-13ea-49a6-9710-e295a44aeb02",
   "metadata": {},
   "outputs": [],
   "source": [
    "w.collection_queryables('metadata:main')"
   ]
  },
  {
   "cell_type": "markdown",
   "id": "c2721529-b458-40c3-9641-ef3ef08ff582",
   "metadata": {},
   "source": [
    "Query the catalogue for all records:"
   ]
  },
  {
   "cell_type": "code",
   "execution_count": null,
   "id": "2e6b8dff-a9a1-4527-b74d-575cb0a450b4",
   "metadata": {},
   "outputs": [],
   "source": [
    "my_catalogue_query = w.collection_items('metadata:main')"
   ]
  },
  {
   "cell_type": "code",
   "execution_count": null,
   "id": "03e559e1-f76d-4ce1-bc66-e1c98cc5b297",
   "metadata": {},
   "outputs": [],
   "source": [
    "my_catalogue_query['numberMatched']"
   ]
  },
  {
   "cell_type": "markdown",
   "id": "520cee33-c6d1-4c07-9a6e-96a21e5cfac0",
   "metadata": {},
   "source": [
    "Metadata of first result:"
   ]
  },
  {
   "cell_type": "code",
   "execution_count": null,
   "id": "36d7c8e5-d0c4-4512-899f-2964ba5e4992",
   "metadata": {},
   "outputs": [],
   "source": [
    "my_catalogue_query['features'][0]['properties'].keys()"
   ]
  },
  {
   "cell_type": "code",
   "execution_count": null,
   "id": "d8e690a9-6c7e-41bc-a095-d5532c6c4eec",
   "metadata": {},
   "outputs": [],
   "source": [
    "my_catalogue_query['features'][0]['properties']['title']"
   ]
  },
  {
   "cell_type": "markdown",
   "id": "830aceeb-3ae5-4be7-84ac-e066c4f93ab5",
   "metadata": {},
   "source": [
    "Query the catalogue using filters:"
   ]
  },
  {
   "cell_type": "code",
   "execution_count": null,
   "id": "70c1d451-2df0-4c9f-aa3c-72df09610725",
   "metadata": {},
   "outputs": [],
   "source": [
    "#my_catalogue_query2 = w.collection_items('metadata:main', q='Orthoimagery')\n",
    "my_catalogue_query2 = w.collection_items('metadata:main', bbox=['13.9','37','15.1','37.9'])"
   ]
  },
  {
   "cell_type": "code",
   "execution_count": null,
   "id": "71a08f3a-276e-4581-9293-b75f19e6c5ef",
   "metadata": {},
   "outputs": [],
   "source": [
    "my_catalogue_query2['numberMatched']"
   ]
  },
  {
   "cell_type": "markdown",
   "id": "04241592-6ddd-4bb1-90ad-9c1897ec4dac",
   "metadata": {},
   "source": [
    "Full query result:"
   ]
  },
  {
   "cell_type": "code",
   "execution_count": null,
   "id": "ef20688e-e7bd-4170-b45c-3194b019d1e1",
   "metadata": {},
   "outputs": [],
   "source": [
    "my_catalogue_query2"
   ]
  },
  {
   "cell_type": "markdown",
   "id": "8f445724-8ae1-4e67-ac09-f5a3885d1252",
   "metadata": {},
   "source": [
    "Text CQL query:"
   ]
  },
  {
   "cell_type": "code",
   "execution_count": null,
   "id": "93b975da-f96b-4df0-bf20-d17196ca3e8e",
   "metadata": {},
   "outputs": [],
   "source": [
    "my_catalogue_cql_text_query = w.collection_items('metadata:main', filter=\"title LIKE 'S2B_MSIL1C_%'\")"
   ]
  },
  {
   "cell_type": "code",
   "execution_count": null,
   "id": "4fd3b30e-8fae-4c2a-889a-0c247d1d8f32",
   "metadata": {},
   "outputs": [],
   "source": [
    "my_catalogue_cql_text_query['numberMatched']"
   ]
  },
  {
   "cell_type": "code",
   "execution_count": null,
   "id": "9276bd06-38af-4e3a-aa26-e0a5c7a76b39",
   "metadata": {},
   "outputs": [],
   "source": [
    "my_catalogue_cql_text_query['features'][0]['properties']['title']"
   ]
  },
  {
   "cell_type": "markdown",
   "id": "024e49e1-90ec-493c-9edf-739c00b0068e",
   "metadata": {},
   "source": [
    "JSON CQL query:"
   ]
  },
  {
   "cell_type": "code",
   "execution_count": null,
   "id": "088d68ea-fd8f-4972-af88-c5dd3f500722",
   "metadata": {},
   "outputs": [],
   "source": [
    "my_catalogue_cql_json_query = w.collection_items('metadata:main', limit=1, cql={'op': '=', 'args': [{ 'property': 'title' }, 'S2B_MSIL1C_20190917T112119_N0208_R037_T31UCB_20190917T132014.SAFE']})"
   ]
  },
  {
   "cell_type": "code",
   "execution_count": null,
   "id": "dd4b3601-ed2f-444f-b126-a9fe5d0fd670",
   "metadata": {},
   "outputs": [],
   "source": [
    "my_catalogue_cql_json_query['features'][0]['properties']['title']"
   ]
  },
  {
   "cell_type": "markdown",
   "id": "0f009a80-da84-4d8c-b1ae-7e74041362aa",
   "metadata": {},
   "source": [
    "### Data Discovery with STAC API"
   ]
  },
  {
   "cell_type": "markdown",
   "id": "9ca2c126-9b6a-42c1-a8f1-e86bb1d4b627",
   "metadata": {},
   "source": [
    "In this part of the demo, the user will use the system level resource catalogue STAC API endpoint to discover data datasets.\n",
    "The `pystac_client` library is used as a STAC client."
   ]
  },
  {
   "cell_type": "code",
   "execution_count": null,
   "id": "ad01f57f-87eb-45e4-bcff-af8843de2558",
   "metadata": {},
   "outputs": [],
   "source": [
    "from pystac_client import Client\n",
    "from pystac_client import ConformanceClasses"
   ]
  },
  {
   "cell_type": "code",
   "execution_count": null,
   "id": "b30fbf94-5424-41d3-9741-6b23c2bb9522",
   "metadata": {},
   "outputs": [],
   "source": [
    "domain = \"demo.eoepca.org\"\n",
    "#domain = \"develop.eoepca.org\"\n",
    "system_catalogue_endpoint = f\"https://resource-catalogue.{domain}/\""
   ]
  },
  {
   "cell_type": "code",
   "execution_count": null,
   "id": "0ae7630e-9c6e-46a7-81d9-03ee489f0ba2",
   "metadata": {},
   "outputs": [],
   "source": [
    "catalog = Client.open(system_catalogue_endpoint)"
   ]
  },
  {
   "cell_type": "markdown",
   "id": "34800714-4c55-49ea-a700-7c5e71e94ada",
   "metadata": {},
   "source": [
    "STAC catalogue metadata:"
   ]
  },
  {
   "cell_type": "code",
   "execution_count": null,
   "id": "fed639f7-6707-406c-9993-7e76ce4371f8",
   "metadata": {},
   "outputs": [],
   "source": [
    "catalog.id"
   ]
  },
  {
   "cell_type": "code",
   "execution_count": null,
   "id": "d6eb3d96-96f5-41f8-9d5a-1c4c6981c5d3",
   "metadata": {},
   "outputs": [],
   "source": [
    "catalog.title"
   ]
  },
  {
   "cell_type": "code",
   "execution_count": null,
   "id": "0ebe3698-aced-454b-ab14-e0aef08b0a57",
   "metadata": {},
   "outputs": [],
   "source": [
    "catalog.description"
   ]
  },
  {
   "cell_type": "markdown",
   "id": "8b558c10-9e50-4ea7-bfb5-df9c016768bd",
   "metadata": {},
   "source": [
    "Conformance classes supported by the STAC API endpoint:"
   ]
  },
  {
   "cell_type": "code",
   "execution_count": null,
   "id": "4bd486ab-97d0-419e-b242-60cd540826b2",
   "metadata": {},
   "outputs": [],
   "source": [
    "dir(ConformanceClasses)"
   ]
  },
  {
   "cell_type": "markdown",
   "id": "c5461a3d-6b62-41e6-bb02-188ef9123393",
   "metadata": {},
   "source": [
    "Validation of STAC API using `pystac_client`:"
   ]
  },
  {
   "cell_type": "code",
   "execution_count": null,
   "id": "99d26c64-6079-41dd-894b-d6071597fe8e",
   "metadata": {},
   "outputs": [],
   "source": [
    "catalog._stac_io.assert_conforms_to(ConformanceClasses.ITEM_SEARCH)"
   ]
  },
  {
   "cell_type": "code",
   "execution_count": null,
   "id": "7bdb84d6-0b22-4c40-90ab-e4cec9616d36",
   "metadata": {},
   "outputs": [],
   "source": [
    "catalog._stac_io.assert_conforms_to(ConformanceClasses.CORE)"
   ]
  },
  {
   "cell_type": "markdown",
   "id": "2d8a3799-12be-477f-a745-41cb9d4914a6",
   "metadata": {},
   "source": [
    "Query the catalogue for all STAC items:"
   ]
  },
  {
   "cell_type": "code",
   "execution_count": null,
   "id": "cf8112b9-1543-44ac-a85c-f1e6d81c40e4",
   "metadata": {},
   "outputs": [],
   "source": [
    "mysearch = catalog.search(collections=['metadata:main'], max_items=10)\n",
    "print(f\"{mysearch.matched()} items found\")"
   ]
  },
  {
   "cell_type": "markdown",
   "id": "3c4987ed-7d2d-4ab7-80f3-6fd31c050461",
   "metadata": {},
   "source": [
    "Query the STAC API using filters:"
   ]
  },
  {
   "cell_type": "code",
   "execution_count": null,
   "id": "12bc4612-3a03-4ced-94a5-7a438e51971c",
   "metadata": {},
   "outputs": [],
   "source": [
    "mysearch = catalog.search(collections=['metadata:main'], bbox=[13.9,37,15.1,37.9], max_items=10)\n",
    "#mysearch = catalog.search(collections=['metadata:main'], bbox=[-72.5,40.5,-72,41], max_items=10)\n",
    "print(f\"{mysearch.matched()} items found\")"
   ]
  },
  {
   "cell_type": "markdown",
   "id": "63f9f428-5651-41e3-b633-77d25c86cf81",
   "metadata": {},
   "source": [
    "Iterate through the query results:"
   ]
  },
  {
   "cell_type": "code",
   "execution_count": null,
   "id": "e89b6cc4-e4b8-4317-b59e-6f61339d2186",
   "metadata": {},
   "outputs": [],
   "source": [
    "items = mysearch.get_items()\n",
    "for item in items:\n",
    "    print(item.id)"
   ]
  },
  {
   "cell_type": "markdown",
   "id": "c327e9a7-aa92-4187-b080-f72079b02040",
   "metadata": {},
   "source": [
    "Show last STAC item JSON:"
   ]
  },
  {
   "cell_type": "code",
   "execution_count": null,
   "id": "af106454-5385-4f5d-b140-c9e1e444b052",
   "metadata": {},
   "outputs": [],
   "source": [
    "print(json.dumps(item.to_dict(), indent=2))\n",
    "#print(item.to_dict())"
   ]
  },
  {
   "cell_type": "markdown",
   "id": "86e317e0-a9fe-4852-91f6-144613f6e6a7",
   "metadata": {},
   "source": [
    "### Transactions with EOEPCA Registration API"
   ]
  },
  {
   "cell_type": "markdown",
   "id": "c19236b6-cd05-4ac1-93a6-ae2f4837b996",
   "metadata": {},
   "source": [
    "This is an example on how to use the EOEPCA Registration API to register metadata records in the Resource Catalogue."
   ]
  },
  {
   "cell_type": "code",
   "execution_count": null,
   "id": "350f2241-e4cf-4536-a191-b5568f27be4e",
   "metadata": {},
   "outputs": [],
   "source": [
    "import requests\n",
    "import datetime\n",
    "import time\n",
    "import json"
   ]
  },
  {
   "cell_type": "code",
   "execution_count": null,
   "id": "340aad25-b3b7-4be9-9044-3ef2aab51a4a",
   "metadata": {},
   "outputs": [],
   "source": [
    "#domain = \"demo.eoepca.org\"\n",
    "domain = \"develop.eoepca.org\"\n",
    "registration_endpoint = f'https://registration-api-open.{domain}'"
   ]
  },
  {
   "cell_type": "markdown",
   "id": "baa04586-a328-47a7-ac28-d3b4c8c8a3f1",
   "metadata": {},
   "source": [
    "We will now register an ADES instance in the Registration API"
   ]
  },
  {
   "cell_type": "code",
   "execution_count": null,
   "id": "058c10e5-0fdb-4a8d-a6fa-9dcea6f04e3e",
   "metadata": {},
   "outputs": [],
   "source": [
    "response = requests.post(\n",
    "    f\"{registration_endpoint}/register\",\n",
    "    json={\n",
    "        \"type\": \"ades\",\n",
    "        \"url\": \"https://demo.pygeoapi.io/stable/processes\",\n",
    "    }\n",
    ")\n",
    "response.raise_for_status()\n",
    "response"
   ]
  },
  {
   "cell_type": "markdown",
   "id": "d686642d-989d-4e99-b06e-4f494221ed6e",
   "metadata": {},
   "source": [
    "Check if the ADES is actually registered:"
   ]
  },
  {
   "cell_type": "code",
   "execution_count": null,
   "id": "8b891248-d9b5-4cf3-b126-c801be93c053",
   "metadata": {},
   "outputs": [],
   "source": [
    "time.sleep(3)\n",
    "response = requests.get(f\"https://resource-catalogue.{domain}/collections/metadata:main/items?type=service\")\n",
    "response.raise_for_status()\n",
    "response.json()"
   ]
  },
  {
   "cell_type": "markdown",
   "id": "7c9ddff8-2c9b-479c-b51a-623aafbbc275",
   "metadata": {},
   "source": [
    "We will now register a STAC Item from the Registration API JSON endpoint."
   ]
  },
  {
   "cell_type": "code",
   "execution_count": null,
   "id": "293a1e34-55cc-4f0a-ad61-13d19479628f",
   "metadata": {},
   "outputs": [],
   "source": [
    "url='https://raw.githubusercontent.com/radiantearth/stac-spec/master/examples/core-item.json'\n",
    "stac_item=requests.get(url).text\n",
    "#print(stac_item)"
   ]
  },
  {
   "cell_type": "code",
   "execution_count": null,
   "id": "6608a3c3-10d1-4c9a-b084-34480d061521",
   "metadata": {},
   "outputs": [],
   "source": [
    "response = requests.post(\n",
    "    f\"{registration_endpoint}/register-json\",\n",
    "    json=json.loads(stac_item)\n",
    ")\n",
    "response.raise_for_status()\n",
    "response"
   ]
  },
  {
   "cell_type": "markdown",
   "id": "6792b12d-dd25-4e58-879c-655aba5abf6c",
   "metadata": {},
   "source": [
    "Check if the STAC Item is actually registered:"
   ]
  },
  {
   "cell_type": "code",
   "execution_count": null,
   "id": "2f8fa712-f26e-4ae5-9ee7-848fee67a5fd",
   "metadata": {},
   "outputs": [],
   "source": [
    "time.sleep(3)\n",
    "# response = requests.get(f\"https://resource-catalogue.{domain}/collections/metadata:main/items/20201211_223832_CS2\")\n",
    "response = requests.get(f\"https://resource-catalogue.{domain}/stac/collections/metadata:main/items/20201211_223832_CS2\")\n",
    "response.raise_for_status()\n",
    "response.json()"
   ]
  },
  {
   "cell_type": "markdown",
   "id": "be037a4b-3226-4401-b3e9-2972c54eac78",
   "metadata": {},
   "source": [
    "### OGC API Records Transactions demo"
   ]
  },
  {
   "cell_type": "markdown",
   "id": "dd69997e-23aa-42e5-b039-60dca501dfea",
   "metadata": {},
   "source": [
    "Examples of OGC API transactions using OGC API - Features - Part 4: Create, Replace, Update and Delete in the context of OGC API - Records metadata management."
   ]
  },
  {
   "cell_type": "markdown",
   "id": "434e40df-3b9f-493b-ae0c-b040d5307b47",
   "metadata": {},
   "source": [
    "In this part of the demo, the user will use the OWSLib client library to create/update/delete a record using the OGC API Transactions interface."
   ]
  },
  {
   "cell_type": "code",
   "execution_count": null,
   "id": "5fade8a6-72f5-484d-a514-cbd4d5407cbe",
   "metadata": {},
   "outputs": [],
   "source": [
    "import json\n",
    "import requests\n",
    "from owslib.ogcapi.records import Records"
   ]
  },
  {
   "cell_type": "code",
   "execution_count": null,
   "id": "73b57ceb-806d-4132-8de1-bcf1344f1f73",
   "metadata": {},
   "outputs": [],
   "source": [
    "record_data = '../data/sample-record.json'\n",
    "base_domain = \"develop.eoepca.org\"\n",
    "system_catalogue_endpoint = f'https://resource-catalogue.{base_domain}'\n",
    "collection_id = 'metadata:main'"
   ]
  },
  {
   "cell_type": "code",
   "execution_count": null,
   "id": "f6a19e18-e7f6-432c-b817-e5bb26e88833",
   "metadata": {},
   "outputs": [],
   "source": [
    "r = Records(system_catalogue_endpoint)"
   ]
  },
  {
   "cell_type": "code",
   "execution_count": null,
   "id": "adf2df53-d65a-43a3-8861-f6adfc848b27",
   "metadata": {},
   "outputs": [],
   "source": [
    "cat = r.collection(collection_id)"
   ]
  },
  {
   "cell_type": "code",
   "execution_count": null,
   "id": "af53d350-0fc7-4e04-82de-5655c1d7540d",
   "metadata": {},
   "outputs": [],
   "source": [
    "with open(record_data) as fh:\n",
    "    data = json.load(fh)"
   ]
  },
  {
   "cell_type": "code",
   "execution_count": null,
   "id": "eb24a392-8fc3-4b32-abdf-07550ffeae16",
   "metadata": {},
   "outputs": [],
   "source": [
    "identifier = data['id']"
   ]
  },
  {
   "cell_type": "code",
   "execution_count": null,
   "id": "9b113824-81da-4921-b8e6-72d795fd40a2",
   "metadata": {},
   "outputs": [],
   "source": [
    "my_catalogue_query = r.collection_items(collection_id)\n",
    "my_catalogue_query['numberMatched']"
   ]
  },
  {
   "cell_type": "code",
   "execution_count": null,
   "id": "e3997966-d13a-4328-b4a8-152b4b2de713",
   "metadata": {},
   "outputs": [],
   "source": [
    "r.collection_item_delete(collection_id, identifier)"
   ]
  },
  {
   "cell_type": "code",
   "execution_count": null,
   "id": "751018c1-dc00-4ad2-94e4-8de7f12ff2e4",
   "metadata": {},
   "outputs": [],
   "source": [
    "my_catalogue_query = r.collection_items(collection_id)\n",
    "my_catalogue_query['numberMatched']"
   ]
  },
  {
   "cell_type": "markdown",
   "id": "2a423f6d-5566-44f9-95f0-c4204b293861",
   "metadata": {},
   "source": [
    "Insert metadata."
   ]
  },
  {
   "cell_type": "code",
   "execution_count": null,
   "id": "bbae8d37-3c69-4168-9ace-1417a1f1e657",
   "metadata": {},
   "outputs": [],
   "source": [
    "r.collection_item_create(collection_id, data)\n",
    "\n",
    "# Similar approach using requests\n",
    "#url = f'{system_catalogue_endpoint}/collections/metadata:main/items'\n",
    "#headers = {'content-type': 'application/geo+json'}\n",
    "#payload = open(record_data)\n",
    "#req = requests.post(url, data=payload, headers=headers)"
   ]
  },
  {
   "cell_type": "code",
   "execution_count": null,
   "id": "d801b0ba-b587-47d7-86e1-0863e2c2b9f5",
   "metadata": {},
   "outputs": [],
   "source": [
    "my_catalogue_query = r.collection_items(collection_id)\n",
    "my_catalogue_query['numberMatched']"
   ]
  },
  {
   "cell_type": "markdown",
   "id": "dfa638eb-e543-474a-a746-a85e15175e99",
   "metadata": {},
   "source": [
    "Update metadata."
   ]
  },
  {
   "cell_type": "code",
   "execution_count": null,
   "id": "bd79aaa5-d8f6-44a8-8819-41fb75875d5f",
   "metadata": {},
   "outputs": [],
   "source": [
    "data['properties']['description'] = \"Update description\""
   ]
  },
  {
   "cell_type": "code",
   "execution_count": null,
   "id": "211defbe-6801-4ecf-9600-464914917dcd",
   "metadata": {},
   "outputs": [],
   "source": [
    "r.collection_item_update(collection_id, identifier, data)"
   ]
  },
  {
   "cell_type": "markdown",
   "id": "e4c3b535-a18b-4862-857c-7fff8d040192",
   "metadata": {},
   "source": [
    "Delete metadata."
   ]
  },
  {
   "cell_type": "code",
   "execution_count": null,
   "id": "99c8a952-1542-488d-ade6-8682818be82d",
   "metadata": {},
   "outputs": [],
   "source": [
    "r.collection_item_delete(collection_id, identifier)"
   ]
  },
  {
   "cell_type": "code",
   "execution_count": null,
   "id": "2bf3df5e-0cf9-4a87-b671-408751e05c86",
   "metadata": {},
   "outputs": [],
   "source": [
    "my_catalogue_query = r.collection_items(collection_id)\n",
    "my_catalogue_query['numberMatched']"
   ]
  },
  {
   "cell_type": "markdown",
   "id": "e3445672-72a8-479b-b160-6f560e5bd4cb",
   "metadata": {},
   "source": [
    "Next, the user will ingest a STAC Item through the OGC API transactions."
   ]
  },
  {
   "cell_type": "code",
   "execution_count": null,
   "id": "6226950e-a4c9-4f9c-968c-b6d1bfb69fff",
   "metadata": {},
   "outputs": [],
   "source": [
    "stac_data = '../data/S2B_MSIL2A_20190910T095029_N0213_R079_T33UWQ_20190910T124513.json'\n",
    "with open(stac_data) as sf:\n",
    "    si = json.load(sf)"
   ]
  },
  {
   "cell_type": "code",
   "execution_count": null,
   "id": "a7aef932-675e-4e3c-8010-00e01f5c9db8",
   "metadata": {},
   "outputs": [],
   "source": [
    "identifier = si['id']"
   ]
  },
  {
   "cell_type": "code",
   "execution_count": null,
   "id": "0f21b570-5f27-43f5-880f-d42ac9831216",
   "metadata": {},
   "outputs": [],
   "source": [
    "my_catalogue_query = r.collection_items(collection_id)\n",
    "my_catalogue_query['numberMatched']"
   ]
  },
  {
   "cell_type": "markdown",
   "id": "6a11320e-c91e-4f07-85e0-ef815fa5ffd8",
   "metadata": {},
   "source": [
    "Delete metadata in case the identifier already exists."
   ]
  },
  {
   "cell_type": "code",
   "execution_count": null,
   "id": "4cb8462d-2016-45b9-872e-a03cdaab43fe",
   "metadata": {},
   "outputs": [],
   "source": [
    "r.collection_item_delete(collection_id, identifier)"
   ]
  },
  {
   "cell_type": "code",
   "execution_count": null,
   "id": "7d8bf97f-aaaf-40bc-b2f6-394053a23764",
   "metadata": {},
   "outputs": [],
   "source": [
    "my_catalogue_query = r.collection_items(collection_id)\n",
    "my_catalogue_query['numberMatched']"
   ]
  },
  {
   "cell_type": "markdown",
   "id": "8f30c360-62fc-4b01-8507-ae2fd336825e",
   "metadata": {},
   "source": [
    "Insert metadata."
   ]
  },
  {
   "cell_type": "code",
   "execution_count": null,
   "id": "ce72ed0b-e3a7-41d3-ad30-055860f530a2",
   "metadata": {},
   "outputs": [],
   "source": [
    "#Disabled due to POST issue https://github.com/geopython/pycsw/issues/809\n",
    "#r.collection_item_create(collection_id, si)\n",
    "\n",
    "url = f'{system_catalogue_endpoint}/collections/metadata:main/items'\n",
    "headers = {'content-type': 'application/geo+json'}\n",
    "payload = open(stac_data)\n",
    "req = requests.post(url, data=payload, headers=headers)"
   ]
  },
  {
   "cell_type": "code",
   "execution_count": null,
   "id": "229d58cf-9eaf-4c99-926d-e994bb70160b",
   "metadata": {},
   "outputs": [],
   "source": [
    "my_catalogue_query = r.collection_items(collection_id)\n",
    "my_catalogue_query['numberMatched']"
   ]
  },
  {
   "cell_type": "markdown",
   "id": "9a325725-5b1a-428a-b701-8046695ce571",
   "metadata": {},
   "source": [
    "Delete metadata."
   ]
  },
  {
   "cell_type": "code",
   "execution_count": null,
   "id": "6a807288-f8ef-4608-891e-28344b445750",
   "metadata": {},
   "outputs": [],
   "source": [
    "r.collection_item_delete(collection_id, identifier)"
   ]
  },
  {
   "cell_type": "code",
   "execution_count": null,
   "id": "77d6fed6-057b-4a02-9e11-ef03d34fb4b0",
   "metadata": {},
   "outputs": [],
   "source": [
    "my_catalogue_query = r.collection_items(collection_id)\n",
    "my_catalogue_query['numberMatched']"
   ]
  },
  {
   "cell_type": "markdown",
   "id": "e411b6e7-114a-46c5-beae-bd1962f0fa2c",
   "metadata": {},
   "source": [
    "Alternative method to demo Transactions using curl from terminal:"
   ]
  },
  {
   "cell_type": "code",
   "execution_count": null,
   "id": "41687193-d448-404e-8185-d605d221a543",
   "metadata": {},
   "outputs": [],
   "source": [
    "# insert metadata\n",
    "# curl -v -H \"Content-Type: application/geo+json\" -XPOST https://resource-catalogue.develop.eoepca.org/collections/metadata:main/items -d @sample-record.json\n",
    "# update metadata\n",
    "# curl -v -H \"Content-Type: application/geo+json\" -XPUT https://resource-catalogue.develop.eoepca.org/collections/metadata:main/items/foorecord -d @sample-record.json\n",
    "# delete metadata\n",
    "# curl -v -XDELETE https://resource-catalogue.develop.eoepca.org/collections/metadata:main/items/foorecord"
   ]
  },
  {
   "cell_type": "markdown",
   "id": "88660720-8bbe-425a-b7b5-a9dd43b28e16",
   "metadata": {},
   "source": [
    "### QGIS catalogue demo"
   ]
  },
  {
   "cell_type": "markdown",
   "id": "7835fe55-8a68-4fe7-8edc-ce245d232b05",
   "metadata": {},
   "source": [
    "In this part of the demo, the user will use the system level resource catalogue endpoint to discover and visualize datasets through QGIS desktop application."
   ]
  },
  {
   "cell_type": "markdown",
   "id": "dded5885-382c-4c4c-9047-3fe48394496b",
   "metadata": {},
   "source": [
    "![QGIS main window with OSM loaded](../images/Screenshot_QGIS_01.png)"
   ]
  },
  {
   "cell_type": "markdown",
   "id": "0cfa1cb0-d73b-4aac-94f1-6602883995fc",
   "metadata": {},
   "source": [
    "The user starts up QGIS and loads some data, in this case the OSM base map. The MetaSearch tool is available on the toolbar"
   ]
  },
  {
   "cell_type": "markdown",
   "id": "d47ed406-07c7-47a1-98a1-749359b89f8a",
   "metadata": {},
   "source": [
    "![MetaSearch main window](../images/Screenshot_QGIS_02.png)"
   ]
  },
  {
   "cell_type": "markdown",
   "id": "afd4aa4c-52e9-4421-9e5a-8448259ab33e",
   "metadata": {},
   "source": [
    "The user can add a new catalogue endpoint by pressing the New button, then needs to add the Resource Catalogue endpoint in the URL text box"
   ]
  },
  {
   "cell_type": "markdown",
   "id": "0e1ee7f8-4e2b-401c-803f-13168af1ceb6",
   "metadata": {},
   "source": [
    "![EOEPCA Resource Catalogue in QGIS](../images/Screenshot_QGIS_03.png)"
   ]
  },
  {
   "cell_type": "markdown",
   "id": "28203106-1120-461f-821d-11eb77473322",
   "metadata": {},
   "source": [
    "The service metadata for the Resource Catalogue are available from the Service Info button"
   ]
  },
  {
   "cell_type": "markdown",
   "id": "f801b19e-d570-4695-a542-1264967082ac",
   "metadata": {},
   "source": [
    "![Service Info](../images/Screenshot_QGIS_04.png)"
   ]
  },
  {
   "cell_type": "markdown",
   "id": "8619c844-011d-4b5c-b4ee-45ec25026542",
   "metadata": {},
   "source": [
    "The Service Capabilities are also available from the 'GetCapabilities Response' button"
   ]
  },
  {
   "cell_type": "markdown",
   "id": "ec91afd1-5d64-4bfa-a868-e842da158d2c",
   "metadata": {},
   "source": [
    "![Service Capabilities](../images/Screenshot_QGIS_05.png)"
   ]
  },
  {
   "cell_type": "markdown",
   "id": "96f303d8-bac7-4e84-a8b1-5a0ae67a910d",
   "metadata": {},
   "source": [
    "The user moves to the 'Search' tab of MetaSearch main window to perform a catalogue search (in this case by adding a bounding box)"
   ]
  },
  {
   "cell_type": "markdown",
   "id": "fb8ca370-cdd2-4949-bd6a-7dcba8814cdd",
   "metadata": {},
   "source": [
    "![Search with bbox](../images/Screenshot_QGIS_06.png)"
   ]
  },
  {
   "cell_type": "markdown",
   "id": "523d6983-fa22-4c4d-b57d-463db0ad5fa8",
   "metadata": {},
   "source": [
    "By pressing 'Search' the Resource Catalogue is performing a dataset search. Then by selecting a result, the dataset bbox is shown on the map."
   ]
  },
  {
   "cell_type": "markdown",
   "id": "4ce257ab-6373-4591-b462-bad325417151",
   "metadata": {},
   "source": [
    "![Search for datasets](../images/Screenshot_QGIS_07.png)"
   ]
  },
  {
   "cell_type": "markdown",
   "id": "8b3401ac-04af-45c2-b78a-a7f659637fe2",
   "metadata": {},
   "source": [
    "The user can choose to view the selected dataset by selecting the 'Add Data' button, where MetaSearch automatically discovers available WMS, WFS, WCS links and enables the capability to load the data directly to QGIS map. In this case, the WMS and WCS endpoints are available from the Data Access links included in the catalogue record."
   ]
  },
  {
   "cell_type": "markdown",
   "id": "6fbd06f3-afd5-4826-affe-e997f7c2c2b0",
   "metadata": {},
   "source": [
    "![Adding Data](../images/Screenshot_QGIS_08.png)"
   ]
  },
  {
   "cell_type": "markdown",
   "id": "337fa97b-10fd-40ff-b3c1-e32cf0e8b674",
   "metadata": {},
   "source": [
    "By selecting 'Add WMS/WMTS' the default QGIS WMS dialog shows up. Here, the user can browse through the available layers offered by the Data Access component and select a layer to add to the map."
   ]
  },
  {
   "cell_type": "markdown",
   "id": "bac76251-b2bc-406f-a305-1b4254d688f6",
   "metadata": {},
   "source": [
    "![QGIS WMS dialog](../images/Screenshot_QGIS_09.png)"
   ]
  },
  {
   "cell_type": "markdown",
   "id": "5e20299b-f6ff-4d92-8b55-c5c3da9a4dc8",
   "metadata": {},
   "source": [
    "After selecting a layer, QGIS will add the layer to the map and user can preview the selected dataset"
   ]
  },
  {
   "cell_type": "markdown",
   "id": "b93208b6-2f0b-476b-977c-d43375336a90",
   "metadata": {},
   "source": [
    "![Data preview](../images/Screenshot_QGIS_10.png)"
   ]
  },
  {
   "cell_type": "markdown",
   "id": "e3a5fb29-471b-4db4-8dbb-ad9e23b9f417",
   "metadata": {},
   "source": [
    "By double clicking the catalogue record, the user can also preview the record metadata"
   ]
  },
  {
   "cell_type": "markdown",
   "id": "92fc29f0-30c7-43b4-ba04-1fa1a1e02e7c",
   "metadata": {},
   "source": [
    "![Metadata preview](../images/Screenshot_QGIS_11.png)"
   ]
  },
  {
   "cell_type": "code",
   "execution_count": null,
   "id": "07d377ca-5920-45c9-a6c9-ed78627ba171",
   "metadata": {},
   "outputs": [],
   "source": []
  }
 ],
 "metadata": {
  "kernelspec": {
   "display_name": "Python 3",
   "language": "python",
   "name": "python3"
  },
  "language_info": {
   "codemirror_mode": {
    "name": "ipython",
    "version": 3
   },
   "file_extension": ".py",
   "mimetype": "text/x-python",
   "name": "python",
   "nbconvert_exporter": "python",
   "pygments_lexer": "ipython3",
   "version": "3.9.2"
  }
 },
 "nbformat": 4,
 "nbformat_minor": 5
}
