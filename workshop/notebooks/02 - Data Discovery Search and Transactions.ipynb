{
 "cells": [
  {
   "cell_type": "markdown",
   "id": "b620b9ea-0c94-4ff7-9dea-1fbb630ad786",
   "metadata": {},
   "source": [
    "# Data Discovery, Search and Transactions"
   ]
  },
  {
   "cell_type": "code",
   "execution_count": 1,
   "id": "777ee0d5-1cef-4ba2-aace-ad5ca9970dd9",
   "metadata": {},
   "outputs": [],
   "source": [
    "domain = \"demo.eoepca.org\""
   ]
  },
  {
   "cell_type": "code",
   "execution_count": 2,
   "id": "70e1e9cc-0c03-4ec0-8d23-8d6dde367b6d",
   "metadata": {},
   "outputs": [],
   "source": [
    "resource_catalogue_base = f\"resource-catalogue.{domain}\""
   ]
  }
 ],
 "metadata": {
  "kernelspec": {
   "display_name": "Python 3",
   "language": "python",
   "name": "python3"
  },
  "language_info": {
   "codemirror_mode": {
    "name": "ipython",
    "version": 3
   },
   "file_extension": ".py",
   "mimetype": "text/x-python",
   "name": "python",
   "nbconvert_exporter": "python",
   "pygments_lexer": "ipython3",
   "version": "3.9.2"
  }
 },
 "nbformat": 4,
 "nbformat_minor": 5
}
