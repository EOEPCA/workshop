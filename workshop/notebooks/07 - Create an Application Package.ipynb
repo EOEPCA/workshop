{
 "cells": [
  {
   "cell_type": "markdown",
   "id": "24ac8f84-1b77-4b73-901f-42a740928f9f",
   "metadata": {},
   "source": [
    "# Create an Application Package"
   ]
  },
  {
   "cell_type": "code",
   "execution_count": null,
   "id": "6ebf0de1-992b-4f06-9085-3df59e17edc4",
   "metadata": {},
   "outputs": [],
   "source": []
  }
 ],
 "metadata": {
  "kernelspec": {
   "display_name": "Python 3",
   "language": "python",
   "name": "python3"
  },
  "language_info": {
   "codemirror_mode": {
    "name": "ipython",
    "version": 3
   },
   "file_extension": ".py",
   "mimetype": "text/x-python",
   "name": "python",
   "nbconvert_exporter": "python",
   "pygments_lexer": "ipython3",
   "version": "3.9.2"
  }
 },
 "nbformat": 4,
 "nbformat_minor": 5
}
