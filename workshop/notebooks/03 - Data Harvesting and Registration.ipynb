{
 "cells": [
  {
   "cell_type": "markdown",
   "id": "8ff74302-6bc4-427c-9c15-803bb7263351",
   "metadata": {},
   "source": [
    "# Data Harvesting & Registration"
   ]
  },
  {
   "cell_type": "code",
   "execution_count": null,
   "id": "0dada959-eb44-4029-bccb-71444694a48c",
   "metadata": {},
   "outputs": [],
   "source": []
  }
 ],
 "metadata": {
  "kernelspec": {
   "display_name": "Python 3",
   "language": "python",
   "name": "python3"
  },
  "language_info": {
   "codemirror_mode": {
    "name": "ipython",
    "version": 3
   },
   "file_extension": ".py",
   "mimetype": "text/x-python",
   "name": "python",
   "nbconvert_exporter": "python",
   "pygments_lexer": "ipython3",
   "version": "3.9.2"
  }
 },
 "nbformat": 4,
 "nbformat_minor": 5
}
