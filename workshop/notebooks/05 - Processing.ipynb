{
 "cells": [
  {
   "cell_type": "markdown",
   "id": "69344478-f552-45c8-b0fc-8686c43c69c0",
   "metadata": {},
   "source": [
    "# Processing"
   ]
  },
  {
   "cell_type": "markdown",
   "id": "5cbbf3ca-1496-4714-b243-a707496ee8b2",
   "metadata": {},
   "source": [
    "The processing will be delivered as:\n",
    "\n",
    "* **Application Package Slides**<br>\n",
    "  A set of explanatory slides that introduce the OGC Application Package - linked to the [OGC Best Practice for Application Packages](https://docs.ogc.org/bp/20-089r1.html) and the OGC API Processes Part 2 (DRU).<br>\n",
    "  [Link to slides (TBD)]()\n",
    "* **OpenAPI Page**<br>\n",
    "  For interaction with the OGC API Processing service via its REST interface.<br>\n",
    "  [Link to OpenAPI Page](https://zoo-project-dru.demo.eoepca.org/swagger-ui/oapip/)"
   ]
  },
  {
   "cell_type": "markdown",
   "id": "f6d56c45-3de2-4187-95ee-51071015df61",
   "metadata": {},
   "source": [
    "## Final step\n",
    "\n",
    "After completing the OpenAPI steps, follow these instructions to download and display the tif file generated with the deployed *water-bodies* Application Package using rasterio."
   ]
  },
  {
   "cell_type": "code",
   "execution_count": null,
   "id": "2e0797ec-0bbb-4acd-8de5-51f818c94681",
   "metadata": {},
   "outputs": [],
   "source": [
    "# Download one of your result\n",
    "\n",
    "import requests\n",
    "url=\"URL_HERE\"\n",
    "\n",
    "r = requests.get(url, allow_redirects=True)\n",
    "\n",
    "print(r.headers)\n",
    "\n",
    "totalbits = 0\n",
    "with open(\"./myProducedFile.tif\", 'wb') as f:\n",
    "    for chunk in r.iter_content(chunk_size=1024):\n",
    "        if chunk:\n",
    "            totalbits += 1024\n",
    "            f.write(chunk)"
   ]
  },
  {
   "cell_type": "code",
   "execution_count": null,
   "id": "ee722724-b2fc-4d47-81c7-35212f2b5d53",
   "metadata": {},
   "outputs": [],
   "source": [
    "# Display your result\n",
    "\n",
    "import rasterio\n",
    "from rasterio.plot import show\n",
    "fp = r'myProducedFile.tif'\n",
    "img = rasterio.open(fp)\n",
    "show(img)"
   ]
  }
 ],
 "metadata": {
  "kernelspec": {
   "display_name": "Python 3 (ipykernel)",
   "language": "python",
   "name": "python3"
  },
  "language_info": {
   "codemirror_mode": {
    "name": "ipython",
    "version": 3
   },
   "file_extension": ".py",
   "mimetype": "text/x-python",
   "name": "python",
   "nbconvert_exporter": "python",
   "pygments_lexer": "ipython3",
   "version": "3.9.18"
  }
 },
 "nbformat": 4,
 "nbformat_minor": 5
}
