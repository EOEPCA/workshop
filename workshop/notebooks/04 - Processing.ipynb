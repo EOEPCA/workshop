{
 "cells": [
  {
   "cell_type": "markdown",
   "id": "69344478-f552-45c8-b0fc-8686c43c69c0",
   "metadata": {},
   "source": [
    "# Processing"
   ]
  },
  {
   "cell_type": "markdown",
   "id": "5cbbf3ca-1496-4714-b243-a707496ee8b2",
   "metadata": {},
   "source": [
    "The processing will be delivered as...\n",
    "* **Application Package Slides**<br>\n",
    "  A set of explanatory slides that introduce the OGC Application Package - linked to the [OGC Best Practice for Application Packages](https://docs.ogc.org/bp/20-089r1.html) and the OGC API Processes Part 2 (DRU).<br>\n",
    "  [Link to slides (TBD)]()\n",
    "* **OpenAPI Page**<br>\n",
    "  For interaction with the OGC API Processing service via its REST interface.<br>\n",
    "  [Link to OpenAPI Page (TBD)]()"
   ]
  }
 ],
 "metadata": {
  "kernelspec": {
   "display_name": "Python 3",
   "language": "python",
   "name": "python3"
  },
  "language_info": {
   "codemirror_mode": {
    "name": "ipython",
    "version": 3
   },
   "file_extension": ".py",
   "mimetype": "text/x-python",
   "name": "python",
   "nbconvert_exporter": "python",
   "pygments_lexer": "ipython3",
   "version": "3.9.2"
  }
 },
 "nbformat": 4,
 "nbformat_minor": 5
}
