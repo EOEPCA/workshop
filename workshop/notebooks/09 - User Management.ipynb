{
 "cells": [
  {
   "cell_type": "markdown",
   "id": "b2a23fb8-eacc-4d14-bf6b-c6701772fd60",
   "metadata": {},
   "source": [
    "# User Management"
   ]
  },
  {
   "cell_type": "code",
   "execution_count": null,
   "id": "2686105a-e1b2-4e34-90c5-2bc71c22ffe9",
   "metadata": {},
   "outputs": [],
   "source": []
  }
 ],
 "metadata": {
  "kernelspec": {
   "display_name": "Python 3",
   "language": "python",
   "name": "python3"
  },
  "language_info": {
   "codemirror_mode": {
    "name": "ipython",
    "version": 3
   },
   "file_extension": ".py",
   "mimetype": "text/x-python",
   "name": "python",
   "nbconvert_exporter": "python",
   "pygments_lexer": "ipython3",
   "version": "3.9.2"
  }
 },
 "nbformat": 4,
 "nbformat_minor": 5
}
