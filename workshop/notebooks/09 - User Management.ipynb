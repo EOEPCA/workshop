{
 "cells": [
  {
   "cell_type": "markdown",
   "id": "b2a23fb8-eacc-4d14-bf6b-c6701772fd60",
   "metadata": {},
   "source": [
    "# User Management"
   ]
  },
  {
   "cell_type": "markdown",
   "id": "a0ed196f-b3b4-4b7d-8048-1cc0c37dc7f5",
   "metadata": {},
   "source": [
    "Steps:\n",
    "* turn protection ON\n",
    "* use workspace-api GetDetails request to demo\n",
    "* configure eric and bob to only access their workdspace details\n",
    "* demo 1) they can access theirs, 2) they can't access others\n",
    "* share erics workspace with bob"
   ]
  },
  {
   "cell_type": "code",
   "execution_count": null,
   "id": "383efcaa-4234-46a8-b5a1-dce24f6e6c52",
   "metadata": {},
   "outputs": [],
   "source": []
  }
 ],
 "metadata": {
  "kernelspec": {
   "display_name": "Python 3",
   "language": "python",
   "name": "python3"
  },
  "language_info": {
   "codemirror_mode": {
    "name": "ipython",
    "version": 3
   },
   "file_extension": ".py",
   "mimetype": "text/x-python",
   "name": "python",
   "nbconvert_exporter": "python",
   "pygments_lexer": "ipython3",
   "version": "3.9.2"
  }
 },
 "nbformat": 4,
 "nbformat_minor": 5
}
