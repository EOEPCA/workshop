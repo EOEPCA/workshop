{
 "cells": [
  {
   "cell_type": "markdown",
   "id": "ba0e787a-4b5f-42c9-851a-c19fcef751b0",
   "metadata": {},
   "source": [
    "# Data Access and Visualisation"
   ]
  },
  {
   "cell_type": "code",
   "execution_count": 2,
   "id": "10fdbd06-9eea-44ee-9946-46c06399e588",
   "metadata": {},
   "outputs": [],
   "source": [
    "domain = \"demo.eoepca.org\""
   ]
  },
  {
   "cell_type": "code",
   "execution_count": 3,
   "id": "4905b025-b2a3-42ac-8fde-a5cbda8fbe41",
   "metadata": {},
   "outputs": [],
   "source": [
    "data_access_base = f\"data-access.{domain}\""
   ]
  }
 ],
 "metadata": {
  "kernelspec": {
   "display_name": "Python 3",
   "language": "python",
   "name": "python3"
  },
  "language_info": {
   "codemirror_mode": {
    "name": "ipython",
    "version": 3
   },
   "file_extension": ".py",
   "mimetype": "text/x-python",
   "name": "python",
   "nbconvert_exporter": "python",
   "pygments_lexer": "ipython3",
   "version": "3.9.2"
  }
 },
 "nbformat": 4,
 "nbformat_minor": 5
}
