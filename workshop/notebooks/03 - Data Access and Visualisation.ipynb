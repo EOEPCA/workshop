{
 "cells": [
  {
   "cell_type": "markdown",
   "id": "ba0e787a-4b5f-42c9-851a-c19fcef751b0",
   "metadata": {},
   "source": [
    "# Data Access and Visualisation"
   ]
  },
  {
   "cell_type": "code",
   "execution_count": null,
   "id": "5bc396bd",
   "metadata": {},
   "outputs": [],
   "source": [
    "from urllib.parse import urljoin, quote\n",
    "\n",
    "from owslib.csw import CatalogueServiceWeb\n",
    "from owslib.wms import WebMapService\n",
    "from owslib.wcs import WebCoverageService\n",
    "import lxml.etree\n",
    "import requests\n",
    "from tifffile import imread\n",
    "from io import BytesIO, StringIO\n",
    "from IPython.display import Image\n",
    "import matplotlib.pyplot as plt\n",
    "import numpy as np\n",
    "\n",
    "np.seterr(divide='ignore', invalid='ignore')"
   ]
  },
  {
   "cell_type": "code",
   "execution_count": null,
   "id": "10fdbd06-9eea-44ee-9946-46c06399e588",
   "metadata": {},
   "outputs": [],
   "source": [
    "# some base settings\n",
    "domain = \"demo.eoepca.org\"\n",
    "data_access_base = f\"data-access.{domain}\"\n",
    "ows_endpoint = f\"https://{data_access_base}/ows\""
   ]
  },
  {
   "cell_type": "code",
   "execution_count": null,
   "id": "fecc6403",
   "metadata": {},
   "outputs": [],
   "source": [
    "# connect to the OWS endpoint using WMS\n",
    "wms = WebMapService(ows_endpoint, version='1.3.0')"
   ]
  },
  {
   "cell_type": "code",
   "execution_count": null,
   "id": "0d989dd7-4b05-4992-b8ed-70f33acb710c",
   "metadata": {},
   "outputs": [],
   "source": [
    "# list all advertised layers\n",
    "list(wms.contents)"
   ]
  },
  {
   "cell_type": "code",
   "execution_count": null,
   "id": "103ed51a-0d23-469b-a036-9bfb10eefb78",
   "metadata": {},
   "outputs": [],
   "source": [
    "# explore the spatio-temporal bounds of the S2L1C layer\n",
    "layer = \"S2L1C\"\n",
    "bbox = wms.contents[layer].boundingBoxWGS84\n",
    "time = wms.contents[layer].timepositions\n",
    "bbox, time"
   ]
  },
  {
   "cell_type": "code",
   "execution_count": null,
   "id": "9b132364-c832-4fca-b116-6b6532a73e5a",
   "metadata": {},
   "outputs": [],
   "source": [
    "# helper function to do WMS GetMap requests and directly display the result in the notebook\n",
    "def get_map(wms, layers, bbox, styles=None, size=None, srs='EPSG:4326', transparent=True, format=\"image/png\", **kwargs):\n",
    "    # if no specific size is passed, calculate one fitting the aspect ratio of the bbox\n",
    "    if size is None:\n",
    "        ratio = (bbox[3] - bbox[1])/(bbox[2] - bbox[0])\n",
    "        width = 600\n",
    "        height = int(ratio * width)\n",
    "        size = (width, height)\n",
    "\n",
    "    # qol helpers\n",
    "    if isinstance(layers, str):\n",
    "        layers = [layers]\n",
    "    if isinstance(styles, str):\n",
    "        styles = [styles]\n",
    "\n",
    "    result = wms.getmap(\n",
    "        layers=layers,\n",
    "        styles=styles,\n",
    "        size=size,\n",
    "        srs=srs,\n",
    "        bbox=bbox,\n",
    "        format=format,\n",
    "        transparent=transparent,\n",
    "        **kwargs\n",
    "    )\n",
    "    return Image(result.read())"
   ]
  },
  {
   "cell_type": "markdown",
   "id": "5e8ffd1e-a4d0-47bb-9bed-37bb5f9a63df",
   "metadata": {},
   "source": [
    "# Browsing\n",
    "\n",
    "With the help of WMS the contents of the data access can be visually browsed. Additional filters like `time` and `cql` can be applied to drill down to the scenes of interest"
   ]
  },
  {
   "cell_type": "code",
   "execution_count": null,
   "id": "f01b195b-dcfe-492b-9bc9-3ab25d8d4ff7",
   "metadata": {},
   "outputs": [],
   "source": [
    "# get an overview of all registered scenes\n",
    "get_map(wms, \"S2L1C__outlines\", bbox)"
   ]
  },
  {
   "cell_type": "code",
   "execution_count": null,
   "id": "db1f3e15-999e-4f40-bdfc-4cfab3bb2d36",
   "metadata": {},
   "outputs": [],
   "source": [
    "# filter scenes by time\n",
    "get_map(wms, \"S2L1C__outlines\", bbox, time=\"2020-09-01T00:00:00Z/2020-10-01T00:00:00Z\")"
   ]
  },
  {
   "cell_type": "code",
   "execution_count": null,
   "id": "ed9cc801-eea4-4e98-bb96-2dd690a5b488",
   "metadata": {},
   "outputs": [],
   "source": [
    "# filter scenes by using time + cql to get scenes with cloud cover less than 10%\n",
    "get_map(wms, \"S2L1C__outlines\", bbox, time=\"2020-09-01T00:00:00Z/2020-10-01T00:00:00Z\", cql=\"product_metadata__cloud_cover < 10\")"
   ]
  },
  {
   "cell_type": "markdown",
   "id": "6ddb15d6-68ae-4902-afa2-2c905665e9db",
   "metadata": {},
   "source": [
    "# Visualization\n",
    "\n",
    "The EOEPCA data access allows for predefined as well as on-demand visualizations, on both a whole collections or single scenes. In order to not overwhelm the service with too many requests, we will limit the requests to a single scene.\n",
    "\n",
    "Scene layers are not advertised, but can be discovered when using a CQL query in the `GetCapabilities` request.\n",
    "\n",
    "Here we will explore the different visualization methods:"
   ]
  },
  {
   "cell_type": "code",
   "execution_count": null,
   "id": "e818e691-579e-482c-adf5-4f53ca2b3e30",
   "metadata": {},
   "outputs": [],
   "source": [
    "scene_id = \"S2B_MSIL2A_20190911T092029_N0213_R093_T34SFG_20190911T135255.SAFE\"\n",
    "cql = quote(f'identifier = \"{scene_id}\"')\n",
    "\n",
    "scene_wms = WebMapService(f'{ows_endpoint}?cql={cql}')\n",
    "\n",
    "list(scene_wms.contents)"
   ]
  },
  {
   "cell_type": "code",
   "execution_count": null,
   "id": "fd735e3f-76a8-4b4f-aac8-d203b1f9011e",
   "metadata": {},
   "outputs": [],
   "source": [
    "scene_bbox = scene_wms.contents[scene_id].boundingBoxWGS84"
   ]
  },
  {
   "cell_type": "code",
   "execution_count": null,
   "id": "2309dd33-8529-423e-ae31-d09a354eb141",
   "metadata": {},
   "outputs": [],
   "source": [
    "# default rendering using TCI file\n",
    "get_map(scene_wms, scene_id, scene_bbox)"
   ]
  },
  {
   "cell_type": "code",
   "execution_count": null,
   "id": "32e49456-f47c-4fed-8b6a-cd15481b86b8",
   "metadata": {},
   "outputs": [],
   "source": [
    "# True color composite, using RGB bands B04, B03, B02 with adjusted color stretches\n",
    "get_map(scene_wms, f\"{scene_id}__TRUE_COLOR\", scene_bbox)"
   ]
  },
  {
   "cell_type": "code",
   "execution_count": null,
   "id": "2d5fa797-0f89-4326-b7ff-f988f48dbdd5",
   "metadata": {},
   "outputs": [],
   "source": [
    "# False color composite using NirRG bands B08, B04, B03\n",
    "get_map(scene_wms, f\"{scene_id}__FALSE_COLOR\", scene_bbox)"
   ]
  },
  {
   "cell_type": "code",
   "execution_count": null,
   "id": "70736416-ffcf-4964-b8e6-b68a148c6b12",
   "metadata": {},
   "outputs": [],
   "source": [
    "# NDVI layer: (B08-B04)/(B08+B04)\n",
    "get_map(scene_wms, f\"{scene_id}__NDVI\", scene_bbox)"
   ]
  },
  {
   "cell_type": "code",
   "execution_count": null,
   "id": "8af5519d-a7a3-4309-9657-d96adbeafb18",
   "metadata": {},
   "outputs": [],
   "source": [
    "# NDVI layer with viridis color scale\n",
    "get_map(scene_wms, f\"{scene_id}__NDVI\", scene_bbox, styles=[\"viridis\"])"
   ]
  },
  {
   "cell_type": "code",
   "execution_count": null,
   "id": "e884e25a-d85d-46de-846f-ed5e6a3d33fa",
   "metadata": {},
   "outputs": [],
   "source": [
    "# Single band access with colorscale applied and custom value stretch\n",
    "get_map(scene_wms, scene_id, scene_bbox, styles=[\"plasma\"], dim_bands=\"B08\", dim_range=\"0 4000\")"
   ]
  },
  {
   "cell_type": "code",
   "execution_count": null,
   "id": "76e8e06e-f5ff-416e-a595-cc792e69410b",
   "metadata": {},
   "outputs": [],
   "source": [
    "# SWIR rendering (B12, B08, B04)\n",
    "get_map(scene_wms, scene_id, scene_bbox, dim_bands=\"B12,B08,B04\", dim_range=\"0 4000,0 4000,0 4000\")"
   ]
  },
  {
   "cell_type": "code",
   "execution_count": null,
   "id": "de3a7110-4879-4831-960e-4373ca04861c",
   "metadata": {},
   "outputs": [],
   "source": [
    "import folium\n",
    "import folium.plugins.timestamped_wmstilelayer\n",
    "\n",
    "\n",
    "centre_lat = scene_bbox[1] + (scene_bbox[3] - scene_bbox[1])/2\n",
    "centre_long = scene_bbox[0] + (scene_bbox[2] - scene_bbox[0])/2\n",
    "m = folium.Map(location=[centre_lat, centre_long], zoom_start=7, tiles=None)\n",
    "\n",
    "folium.raster_layers.WmsTileLayer(\n",
    "    url=\"https://a.tiles.maps.eox.at\",\n",
    "    layers='terrain-light_3857',\n",
    "    name='terrain-light',\n",
    "    fmt='image/jpeg',\n",
    ").add_to(m)\n",
    "folium.raster_layers.WmsTileLayer(\n",
    "    url=ows_endpoint,\n",
    "    layers=f\"{scene_id}__TRUE_COLOR\",\n",
    "    name=f\"{scene_id}__TRUE_COLOR\",\n",
    "    fmt='image/png',\n",
    "    transparent=True,\n",
    "    overlay=True,\n",
    "    control=True,\n",
    ").add_to(m)\n",
    "m"
   ]
  },
  {
   "cell_type": "markdown",
   "id": "e6ed90df",
   "metadata": {},
   "source": [
    "# Data Access\n",
    "\n",
    "In order to access the actual data contained in the band files, we can use the WCS protocol. This allows us to access any data file via a common interface and do dynamic subsets.\n",
    "\n",
    "To list the available coverages of a scene, we can send a `DescribeEOCoverageSet` request."
   ]
  },
  {
   "cell_type": "code",
   "execution_count": null,
   "id": "72174499-da15-4ce4-85c0-0a4615087f78",
   "metadata": {},
   "outputs": [],
   "source": [
    "response = requests.get(ows_endpoint, params={\"service\": \"WCS\", \"version\": \"2.0.0\", \"request\": \"DescribeEOCoverageSet\", \"eoid\": scene_id})\n",
    "tree = lxml.etree.fromstring(response.content)\n",
    "tree.xpath(\"wcs:CoverageDescriptions/wcs:CoverageDescription/@gml:id\", namespaces=tree.nsmap)"
   ]
  },
  {
   "cell_type": "markdown",
   "id": "147c7013-3caa-44e7-8930-da169161e646",
   "metadata": {},
   "source": [
    "Now that we have the Coverage IDs we can send `GetCoverage` requests to download the data, to do our own calculations with it:"
   ]
  },
  {
   "cell_type": "code",
   "execution_count": null,
   "id": "3e3cb9ac-0f1e-4dba-a183-ac9e79c9b1ad",
   "metadata": {},
   "outputs": [],
   "source": [
    "# convenience function to request a coverage and read the TIFF\n",
    "def get_coverage(ows_endpoint, params):\n",
    "    response = requests.get(ows_endpoint, params=params)\n",
    "    return imread(BytesIO(response.content))"
   ]
  },
  {
   "cell_type": "code",
   "execution_count": null,
   "id": "61267cfe-c6c9-41a0-85ec-54a6de7f2c89",
   "metadata": {},
   "outputs": [],
   "source": [
    "b04 = get_coverage(ows_endpoint, params={\"service\": \"WCS\", \"version\": \"2.0.0\", \"request\": \"GetCoverage\", \"coverageid\": \"S2B_MSIL2A_20190911T092029_N0213_R093_T34SFG_20190911T135255.SAFE_B04\", \"format\": \"image/tiff\", \"scaleFactor\": \"0.10\"})\n",
    "b08 = get_coverage(ows_endpoint, params={\"service\": \"WCS\", \"version\": \"2.0.0\", \"request\": \"GetCoverage\", \"coverageid\": \"S2B_MSIL2A_20190911T092029_N0213_R093_T34SFG_20190911T135255.SAFE_B08\", \"format\": \"image/tiff\", \"scaleFactor\": \"0.10\"})"
   ]
  },
  {
   "cell_type": "code",
   "execution_count": null,
   "id": "42332192-ab13-4954-87da-244d6aa43aeb",
   "metadata": {},
   "outputs": [],
   "source": [
    "b04 = b04.astype(\"float64\")\n",
    "b08 = b08.astype(\"float64\")\n",
    "\n",
    "ndvi = (b08 - b04) / (b08 + b04)\n",
    "plt.imshow(ndvi, aspect=\"auto\")"
   ]
  },
  {
   "cell_type": "code",
   "execution_count": null,
   "id": "36870199-6ae3-463a-b485-5a28c398c7d0",
   "metadata": {},
   "outputs": [],
   "source": []
  }
 ],
 "metadata": {
  "kernelspec": {
   "display_name": "Python 3",
   "language": "python",
   "name": "python3"
  },
  "language_info": {
   "codemirror_mode": {
    "name": "ipython",
    "version": 3
   },
   "file_extension": ".py",
   "mimetype": "text/x-python",
   "name": "python",
   "nbconvert_exporter": "python",
   "pygments_lexer": "ipython3",
   "version": "3.10.12"
  }
 },
 "nbformat": 4,
 "nbformat_minor": 5
}
