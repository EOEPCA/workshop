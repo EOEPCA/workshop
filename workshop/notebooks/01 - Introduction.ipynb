{
 "cells": [
  {
   "cell_type": "markdown",
   "id": "41afa641-01b1-4244-9764-01962abfe279",
   "metadata": {},
   "source": [
    "# Introduction and Setup\n",
    "\n",
    "## Agenda\n",
    "\n",
    "* **Introduction and Setup (10 mins)** - Richard Conway (Telespazio UK)<br>\n",
    "Quick introduction to EOEPCA and the building-blocks that will be demonstrated.<br>\n",
    "Also introduce the individual user workspaces that have been pre-created for the participants.\n",
    "\n",
    "* **Data Discovery, Search and Transactions (15 mins)** - Angelos Tzotsos (EOfarm)<br>\n",
    "Queries and transactions + QGIS.\n",
    "\n",
    "* **Services for Data Access and Visualisation (15 mins)** - Fabian Schindler (EOX)<br>\n",
    "Data access services + QGIS.\n",
    "\n",
    "* **User Workspace (15 mins)** - Fabian Schindler (EOX)<br>\n",
    "Data upload and registration into the user's workspace, allowing to inspect metadata and visualise products.\n",
    "\n",
    "* **Processing (35 mins)** - Fabrice Brito (Terradue) / Gérald Fenoy (GeoLabs)<br>\n",
    "Application Package understanding, deployment and execution."
   ]
  },
  {
   "cell_type": "markdown",
   "id": "2ab73ec6-6c5a-404f-bf54-e42a10d06e45",
   "metadata": {},
   "source": [
    "## Introduction\n",
    "\n",
    "EOEPCA - Earth Observation Exploitation Platform Common Architecture"
   ]
  },
  {
   "cell_type": "markdown",
   "id": "5796feaf-2e5b-4e0d-8264-345e3741e8bb",
   "metadata": {},
   "source": [
    "### What is an Exploitation Platform?\n",
    "\n",
    "An Exploitation Platform is a virtual work environment where expert users can access data, develop algorithms, conduct analysis and publish their value-adding outcomes. The platform facilitates the sharing of data and applications to create collaborative communities of expertise."
   ]
  },
  {
   "cell_type": "markdown",
   "id": "888da3d3-56d6-49bd-ae09-80b1e0e69cfa",
   "metadata": {},
   "source": [
    "### Interoperable Architecture\n",
    "\n",
    "The goal of the Common Architecture is to encourage interoperation by reducing friction between platforms.\n",
    "\n",
    "We have defined a re-usable architecture comprising a set of Building-blocks (software components)...\n",
    "* exposing interfaces based on open standards – such as those provided by OGC, STAC\n",
    "* and for federating user identity across platforms\n",
    "\n",
    "<img src=\"../images/common-architecture.png\" alt=\"Common Architecture\" style=\"width:50%;\" />"
   ]
  },
  {
   "cell_type": "markdown",
   "id": "8a5abd55-bdfe-4f16-bbae-3c49911463f6",
   "metadata": {},
   "source": [
    "### Reference System\n",
    "\n",
    "We have implemented an open-source reference implementation of the architecture to encourage uptake.\n",
    "\n",
    "The EOEPCA building blocks are designed for integration into a coherent system...\n",
    "\n",
    "* Infrastructure resources are harvested into the resource management services\n",
    "* Application Packages are developed, published and discovered in the Resource Catalogue\n",
    "* Processing exploits the available data, with the added-value results registered in the user’s workspace\n",
    "* Dashboards present Actionable Information interactively to Decision Makers\n",
    "* Open standards encourage federation and interoperability amongst platforms\n",
    "* All building blocks are provided via a helm chart for Kubernetes deployment\n",
    "\n",
    "<img src=\"../images/reference-system.png\" alt=\"Reference System\" style=\"width:50%;\" />\n"
   ]
  },
  {
   "cell_type": "markdown",
   "id": "5b76359f-bb63-4a7a-a6c1-68ee6973183a",
   "metadata": {},
   "source": [
    "### Focus of Tutorial\n",
    "\n",
    "This tutorial focuses on the following building-blocks...\n",
    "* Resource Catalogue\n",
    "* Data Access services\n",
    "* Workspace\n",
    "* ZOO-Project-DRU (ADES) with Application Package"
   ]
  },
  {
   "cell_type": "markdown",
   "id": "7cb3e0cf-e360-44ee-a1d2-0fea5b562bc5",
   "metadata": {},
   "source": [
    "## Setup\n",
    "\n",
    "### Notebook Environment\n",
    "\n",
    "Each participant is expected to have established their local JupyterLab environment including access to the workshop Notebooks - as described in the [README on GitHub](https://github.com/EOEPCA/workshop#readme)...\n",
    "\n",
    "* Either, [using GitHub Codespace](https://github.com/EOEPCA/workshop#use-github-codespace)\n",
    "* Or, [using container image](https://github.com/EOEPCA/workshop#use-pre-packaged-container-image)\n",
    "* Or, [using local python installation](https://github.com/EOEPCA/workshop#use-native-jupyterlab)\n",
    "\n",
    "### Service Endpoints\n",
    "\n",
    "The following system endpoints are used during the tutorial...\n",
    "\n",
    "* Resource Catalogue - https://resource-catalogue.demo.eoepca.org/\n",
    "* Data Access - https://data-access.demo.eoepca.org/\n",
    "* Workspace API (Swagger UI) - https://workspace-api.demo.eoepca.org/docs\n",
    "* ZOO-Project-DRU (Swagger UI) - https://zoo-project-dru.demo.eoepca.org/swagger-ui/oapip/\n",
    "\n",
    "### User Workspace\n",
    "\n",
    "In the interests of time we have pre-created a set of user workspaces - named `user01` to `user30`.\n",
    "\n",
    "See the sheet (circulated in the room) that provides an allocation of workspace to participant.\n",
    "\n",
    "In accordance with these user names, the following user-specific endpoints are available...\n",
    "\n",
    "* Resource Catalogue (workspace) - https://resource-catalogue.demo-user-userXX.demo.eoepca.org\n",
    "* Data Access (workspace) - https://data-access.demo-user-userXX.demo.eoepca.org\n"
   ]
  }
 ],
 "metadata": {
  "kernelspec": {
   "display_name": "Python 3 (ipykernel)",
   "language": "python",
   "name": "python3"
  },
  "language_info": {
   "codemirror_mode": {
    "name": "ipython",
    "version": 3
   },
   "file_extension": ".py",
   "mimetype": "text/x-python",
   "name": "python",
   "nbconvert_exporter": "python",
   "pygments_lexer": "ipython3",
   "version": "3.9.18"
  }
 },
 "nbformat": 4,
 "nbformat_minor": 5
}
