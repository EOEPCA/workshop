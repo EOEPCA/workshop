{
 "cells": [
  {
   "cell_type": "markdown",
   "id": "41afa641-01b1-4244-9764-01962abfe279",
   "metadata": {},
   "source": [
    "# Introduction\n",
    "\n",
    "## Agenda\n",
    "\n",
    "* Introduction [Richard]<br>\n",
    "Project overview, building-blocks and their interfaces (not architecture detail)\n",
    "\n",
    "* Deployment [Richard] 45 mins<br>\n",
    "Full using minikube - BBs one-by-one, mentioning key points of integration\n",
    "\n",
    "* Data Harvesting & Registration [Angelos/Lubomir] 15 mins<br>\n",
    "Harvest data to support subsequent demos.\n",
    "\n",
    "* Resource Catalogue [Angelos] 30 mins<br>\n",
    "Queries and transactions + QGIS\n",
    "\n",
    "* Data Access [Lubomir] 30 mins<br>\n",
    "Data access services + QGIS\n",
    "\n",
    "* Workspace [Fabian] 30 mins<br>\n",
    "Create workspace ready for processing, registration of resource types - plus workspace management\n",
    "\n",
    "* Create an application package [Simone] 30 mins<br>\n",
    "Introduce the principles of the best practice\n",
    "\n",
    "* Processing [Gerald] 30 mins<br>\n",
    "Deploy, execute, stage-out to workspace etc.\n",
    "\n",
    "* User Management [Alvaro] 20 mins<br>\n",
    "Apply resource protection and create policies etc."
   ]
  },
  {
   "cell_type": "code",
   "execution_count": null,
   "id": "00604ebd-8f6f-4145-8e99-4c0c9ce75a93",
   "metadata": {},
   "outputs": [],
   "source": []
  }
 ],
 "metadata": {
  "kernelspec": {
   "display_name": "Python 3",
   "language": "python",
   "name": "python3"
  },
  "language_info": {
   "codemirror_mode": {
    "name": "ipython",
    "version": 3
   },
   "file_extension": ".py",
   "mimetype": "text/x-python",
   "name": "python",
   "nbconvert_exporter": "python",
   "pygments_lexer": "ipython3",
   "version": "3.9.2"
  }
 },
 "nbformat": 4,
 "nbformat_minor": 5
}
