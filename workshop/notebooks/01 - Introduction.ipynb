{
 "cells": [
  {
   "cell_type": "markdown",
   "id": "41afa641-01b1-4244-9764-01962abfe279",
   "metadata": {},
   "source": [
    "# Introduction and Setup\n",
    "\n",
    "## Agenda\n",
    "\n",
    "* **Introduction and Setup (10 mins)** [Richard]<br>\n",
    "Quick introduction to EOEPCA and the building-blocks that will be demonstrated.<br>\n",
    "Also introduce the individual user workspaces that have been pre-created for the participants.\n",
    "\n",
    "* **Data Discovery, Search and Transactions (15 mins)** [Angelos]<br>\n",
    "Queries and transactions + QGIS.\n",
    "\n",
    "* **Services for Data Access and Visualisation (15 mins)** [Fabian]<br>\n",
    "Data access services + QGIS.\n",
    "\n",
    "* **User Workspace (15 mins)** [Fabian]<br>\n",
    "Data upload and registration into the user's workspace, allowing to inspect metadata and visualise products.\n",
    "\n",
    "* **Processing (35 mins)** [Gerald]<br>\n",
    "Application Package understanding, deployment and execution."
   ]
  },
  {
   "cell_type": "markdown",
   "id": "7bf64ff3-95b0-4cbe-b9e3-4991fdfceacc",
   "metadata": {},
   "source": [
    "## Introduction\n",
    "\n",
    "TBD - description of the system components used during the workshop"
   ]
  },
  {
   "cell_type": "markdown",
   "id": "7cb3e0cf-e360-44ee-a1d2-0fea5b562bc5",
   "metadata": {},
   "source": [
    "## Setup\n",
    "\n",
    "Each participant is expected to have established their local JupyterLab environment including access to the workshop Notebooks - as described in the [README on GitHub](https://github.com/EOEPCA/workshop#readme).\n",
    "* Either, [using GitHub Codespace](https://github.com/EOEPCA/workshop#use-github-codespace)\n",
    "* Or, [using container image](https://github.com/EOEPCA/workshop#use-pre-packaged-container-image)\n",
    "* Or, [using local python installation](https://github.com/EOEPCA/workshop#use-native-jupyterlab)"
   ]
  }
 ],
 "metadata": {
  "kernelspec": {
   "display_name": "Python 3 (ipykernel)",
   "language": "python",
   "name": "python3"
  },
  "language_info": {
   "codemirror_mode": {
    "name": "ipython",
    "version": 3
   },
   "file_extension": ".py",
   "mimetype": "text/x-python",
   "name": "python",
   "nbconvert_exporter": "python",
   "pygments_lexer": "ipython3",
   "version": "3.9.18"
  }
 },
 "nbformat": 4,
 "nbformat_minor": 5
}
