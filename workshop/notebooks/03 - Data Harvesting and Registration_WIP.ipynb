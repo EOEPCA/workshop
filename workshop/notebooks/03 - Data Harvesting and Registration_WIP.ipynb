{
 "cells": [
  {
   "cell_type": "markdown",
   "id": "8ff74302-6bc4-427c-9c15-803bb7263351",
   "metadata": {},
   "source": [
    "# Data Harvesting & Registration"
   ]
  },
  {
   "cell_type": "code",
   "execution_count": null,
   "id": "e98e6065",
   "metadata": {},
   "outputs": [],
   "source": [
    "domain = \"185-52-195-215.nip.io\""
   ]
  },
  {
   "cell_type": "markdown",
   "id": "dbe880dc",
   "metadata": {},
   "source": [
    "### S2L2A 1 day of data harvesting\n",
    "\n",
    "Ad-hoc harvesting can be invoked by provision of a suitable config.yaml into the harvester pod, which can then be invoked for the default harvester configuration.\n",
    "\n",
    "```yaml\n",
    "harvesters:\n",
    "- filter: {}\n",
    "  name: Creodias-Opensearch\n",
    "  postprocess:\n",
    "  - type: harvester_eoepca.postprocess.CREODIASOpenSearchSentinel2Postprocessor\n",
    "  queue: register\n",
    "  resource:\n",
    "    format_config:\n",
    "      property_mapping:\n",
    "        end_datetime: completionDate\n",
    "        productIdentifier: productIdentifier\n",
    "        start_datetime: startDate\n",
    "      type: application/json\n",
    "    query:\n",
    "      bbox: 14.9,47.7,16.4,48.7\n",
    "      collection: null\n",
    "      time:\n",
    "        begin: \"2019-09-10T00:00:00Z\"\n",
    "        end: \"2019-09-11T00:00:00Z\"\n",
    "        property: sensed\n",
    "    type: OpenSearch\n",
    "    url: https://finder.creodias.eu/resto/api/collections/Sentinel2/describe.xml\n",
    "redis:\n",
    "  host: data-access-redis-master\n",
    "  port: 6379\n",
    "```"
   ]
  },
  {
   "cell_type": "code",
   "execution_count": null,
   "id": "0dada959-eb44-4029-bccb-71444694a48c",
   "metadata": {},
   "outputs": [],
   "source": [
    "# trigger harvest with a default collection\n",
    "!k -n rm exec -it deployment/data-access-harvester -- bash -c 'cat /config.yaml'\n",
    "!k -n rm exec -it deployment/data-access-harvester -- bash -c 'python3 -m harvester harvest --config-file /config.yaml --host data-access-redis-master --port 6379 Creodias-Opensearch'"
   ]
  },
  {
   "cell_type": "code",
   "execution_count": null,
   "id": "7cf54b77",
   "metadata": {},
   "outputs": [],
   "source": [
    "# check status of registration \n",
    "!k -n rm logs deployment/data-access-registrar\n"
   ]
  },
  {
   "cell_type": "code",
   "execution_count": null,
   "id": "edccaf7d",
   "metadata": {},
   "outputs": [],
   "source": [
    "# check success and exceptions of registration \n",
    "!k -n rm logs deployment/data-access-registrar | grep Successful\n",
    "!k -n rm logs deployment/data-access-registrar | grep Exception"
   ]
  },
  {
   "cell_type": "code",
   "execution_count": null,
   "id": "4f438679",
   "metadata": {},
   "outputs": [],
   "source": [
    "# check existence of new products in the EOxServer database by listing all products\n",
    "\n",
    "k -n rm exec -it deployment/data-access-registrar -- bash -c 'python3 $INSTANCE_DIR/manage.py id list -t Product -s '"
   ]
  },
  {
   "cell_type": "code",
   "execution_count": null,
   "id": "489f8ea3",
   "metadata": {},
   "outputs": [],
   "source": [
    "# or get their count directly at the EOxServer OpenSearch Endpoint\n",
    "import requests\n",
    "base = f\"data-access.{domain}\"\n",
    "S2L2A_opensearch_url = f\"https://{base}/opensearch/collections/S2L2A/atom/?count=0\"\n",
    "r = requests.get(url = S2L2A_opensearch_url).text\n",
    "print(r)"
   ]
  },
  {
   "cell_type": "markdown",
   "id": "949c4f25",
   "metadata": {},
   "source": [
    "# Harvesting configuration\n",
    "\n",
    "- show pycsw resource catalog\n",
    "- ask participants to change bbox to their area of origin\n",
    "- add a link to the schema of harvester\n",
    "\n",
    "# Collection/ProductType values"
   ]
  },
  {
   "cell_type": "markdown",
   "id": "dd6eb843",
   "metadata": {},
   "source": []
  }
 ],
 "metadata": {
  "kernelspec": {
   "display_name": "Python 3.8.10 64-bit",
   "language": "python",
   "name": "python3"
  },
  "language_info": {
   "codemirror_mode": {
    "name": "ipython",
    "version": 3
   },
   "file_extension": ".py",
   "mimetype": "text/x-python",
   "name": "python",
   "nbconvert_exporter": "python",
   "pygments_lexer": "ipython3",
   "version": "3.8.10"
  },
  "vscode": {
   "interpreter": {
    "hash": "916dbcbb3f70747c44a77c7bcd40155683ae19c65e1c03b4aa3499c5328201f1"
   }
  }
 },
 "nbformat": 4,
 "nbformat_minor": 5
}
